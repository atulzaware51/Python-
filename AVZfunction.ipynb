{
 "cells": [
  {
   "cell_type": "markdown",
   "id": "1d38646b-57ad-4024-872e-e9c7ff62ce41",
   "metadata": {},
   "source": [
    "# function"
   ]
  },
  {
   "cell_type": "code",
   "execution_count": 15,
   "id": "fa82a74f-a416-4aa8-9dc7-24a3afb9aac9",
   "metadata": {},
   "outputs": [
    {
     "name": "stdout",
     "output_type": "stream",
     "text": [
      "Hello from  a function\n"
     ]
    }
   ],
   "source": [
    "def my_function():#creating function\n",
    "    print(\"Hello from  a function\")#function defintion\n",
    "my_function()#function calling"
   ]
  },
  {
   "cell_type": "markdown",
   "id": "76b40e15-c4b4-4b1a-967e-5425bd6ce93d",
   "metadata": {},
   "source": [
    "# Arguments"
   ]
  },
  {
   "cell_type": "code",
   "execution_count": 12,
   "id": "04776be2-9ddd-4287-ba8c-fa7a26d292ec",
   "metadata": {},
   "outputs": [
    {
     "name": "stdout",
     "output_type": "stream",
     "text": [
      " Engineer Manjushree\n",
      " Engineer Harsha\n",
      " Engineer Iram\n",
      " Engineer  Atul \n"
     ]
    }
   ],
   "source": [
    "def my_function(fname):\n",
    "    print(  \" Engineer \" + fname)\n",
    "my_function(\"Manjushree\")\n",
    "my_function(\"Harsha\")\n",
    "my_function(\"Iram\")\n",
    "my_function(\" Atul \")"
   ]
  },
  {
   "cell_type": "markdown",
   "id": "7c7ef69b-931b-40cd-89e3-d52a27b8eb2d",
   "metadata": {},
   "source": [
    "# Parameters or Arguments"
   ]
  },
  {
   "cell_type": "code",
   "execution_count": 17,
   "id": "350586e7-523c-4817-a045-1fe234900a03",
   "metadata": {},
   "outputs": [
    {
     "name": "stdout",
     "output_type": "stream",
     "text": [
      "Manjushree Laddha\n",
      "Atul Zaware\n"
     ]
    }
   ],
   "source": [
    "# this function expects 2arguments, and gets 2 arguments:\n",
    "\n",
    "def my_function(fname, lname):\n",
    "    print(fname + \" \" + lname)\n",
    "\n",
    "my_function(\"Manjushree\", \"Laddha\")\n",
    "my_function(\"Atul\", \"Zaware\")"
   ]
  },
  {
   "cell_type": "code",
   "execution_count": 23,
   "id": "c06c91ff-3b44-4ed3-96a8-51b607a3d7cd",
   "metadata": {},
   "outputs": [
    {
     "ename": "TypeError",
     "evalue": "my_function() missing 1 required positional argument: 'lname'",
     "output_type": "error",
     "traceback": [
      "\u001b[0;31m---------------------------------------------------------------------------\u001b[0m",
      "\u001b[0;31mTypeError\u001b[0m                                 Traceback (most recent call last)",
      "Cell \u001b[0;32mIn[23], line 6\u001b[0m\n\u001b[1;32m      3\u001b[0m \u001b[38;5;28;01mdef\u001b[39;00m \u001b[38;5;21mmy_function\u001b[39m(fname, lname):\n\u001b[1;32m      4\u001b[0m     \u001b[38;5;28mprint\u001b[39m(fname\u001b[38;5;241m+\u001b[39m \u001b[38;5;124m\"\u001b[39m\u001b[38;5;124m \u001b[39m\u001b[38;5;124m\"\u001b[39m \u001b[38;5;241m+\u001b[39mlname)\n\u001b[0;32m----> 6\u001b[0m my_function(\u001b[38;5;124m\"\u001b[39m\u001b[38;5;124mManjushree\u001b[39m\u001b[38;5;124m\"\u001b[39m)\n",
      "\u001b[0;31mTypeError\u001b[0m: my_function() missing 1 required positional argument: 'lname'"
     ]
    }
   ],
   "source": [
    "# this function excepts 2 arguments, but get only 1\n",
    "\n",
    "def my_function(fname, lname):\n",
    "    print(fname + \" \" + lname)\n",
    "\n",
    "my_function(\"Manjushree\")\n",
    "my_function(\"Atul Zaware\")"
   ]
  },
  {
   "cell_type": "code",
   "execution_count": 25,
   "id": "279f8de9-60d3-4a7a-a288-f061f5598474",
   "metadata": {},
   "outputs": [
    {
     "name": "stdout",
     "output_type": "stream",
     "text": [
      "The youngest child is Anthony\n"
     ]
    }
   ],
   "source": [
    "# If the number of arguments is unknown and a * before the parameter name:\n",
    "#Arbitary Arguments are often shortened to *args in Python documentation.\n",
    "def my_function(*kids):\n",
    "    print(\"The youngest child is \" + kids[2])\n",
    "\n",
    "my_function(\"Amar\", \"Akbar\", \"Anthony\")\n"
   ]
  },
  {
   "cell_type": "markdown",
   "id": "08140576-013e-4fd6-9b24-56ef7131591a",
   "metadata": {},
   "source": [
    "# keywords arguments"
   ]
  },
  {
   "cell_type": "code",
   "execution_count": 30,
   "id": "86edc5c3-c83a-4109-a45b-91c83e59f11b",
   "metadata": {},
   "outputs": [
    {
     "name": "stdout",
     "output_type": "stream",
     "text": [
      "The youngest child is Hari\n"
     ]
    }
   ],
   "source": [
    "def my_function(child3, child2, child1):\n",
    "    print(\"The youngest child is \" + child3)\n",
    "\n",
    "my_function(child1 = \"Ram\", child2 = \"Krishna\", child3 = \"Hari\")"
   ]
  },
  {
   "cell_type": "markdown",
   "id": "a42d473a-11ed-4f68-a536-fc223479d38b",
   "metadata": {},
   "source": [
    "# Arbitary Keywords Arguments, **kwargs"
   ]
  },
  {
   "cell_type": "code",
   "execution_count": 11,
   "id": "46e39ac2-bc2e-43af-9719-477944cb3eee",
   "metadata": {},
   "outputs": [
    {
     "name": "stdout",
     "output_type": "stream",
     "text": [
      "His first name is Ram\n",
      "His last name is Shinde\n",
      "His first name is Atul\n",
      "His last name is Zaware\n",
      "hello everyone  ITS ATUL\n"
     ]
    }
   ],
   "source": [
    "# If the number of keyword arguments is unknown, add a double ** before the parameter name:\n",
    "def my_function(**kid):\n",
    "    print(\"His first name is \" + kid[\"fname\"])\n",
    "    print(\"His last name is \" + kid[\"lname\"])\n",
    "\n",
    "my_function(fname = \"Ram\", lname = \"Shinde\")\n",
    "my_function(fname = \"Atul\", lname = \"Zaware\")\n",
    "\n",
    "def my_count(**count):\n",
    "    print(\"hello everyone\" + count[\"well\"])\n",
    "my_count(   well= \"  ITS ATUL\" )"
   ]
  },
  {
   "cell_type": "markdown",
   "id": "127c62a4-d9a5-49a6-b547-5047c908739e",
   "metadata": {},
   "source": [
    "# Default Parameter Value"
   ]
  },
  {
   "cell_type": "code",
   "execution_count": 3,
   "id": "ff0c34bc-a73a-4320-95d0-5db60d4c2cc0",
   "metadata": {},
   "outputs": [
    {
     "name": "stdout",
     "output_type": "stream",
     "text": [
      " I am from Sweden\n",
      " I am from India\n",
      " I am from Norway\n",
      " I am from Brazil\n",
      "hello every one itsNAMASTE\n",
      "hello every one itsINDIA\n"
     ]
    }
   ],
   "source": [
    "def my_function(country = \"Norway\"):\n",
    "    print(\" I am from \" + country)\n",
    "def my_country(Country = \"INDIA\"):\n",
    "    print(\"hello every one its\" + Country)\n",
    "my_function(\"Sweden\")\n",
    "my_function(\"India\")\n",
    "my_function()\n",
    "my_function(\"Brazil\")\n",
    "my_country(\"NAMASTE\") \n",
    "my_country()\n"
   ]
  },
  {
   "cell_type": "markdown",
   "id": "2d219a6c-c0d4-49fd-bec9-dceb087998f7",
   "metadata": {},
   "source": [
    "# Passing a List as an Argument"
   ]
  },
  {
   "cell_type": "code",
   "execution_count": 7,
   "id": "e7ca9318-48d8-4325-8462-025091039a9a",
   "metadata": {},
   "outputs": [
    {
     "name": "stdout",
     "output_type": "stream",
     "text": [
      "apple\n",
      "banana\n",
      "cherry\n",
      " BMW\n",
      "MARUTI\n",
      "SWIFT\n"
     ]
    }
   ],
   "source": [
    "def my_function(food):\n",
    "    for x in food:\n",
    "        print(x)\n",
    "def my_count(count):\n",
    "    for x in count:\n",
    "        print(x)\n",
    "\n",
    "fruits = [\"apple\", \"banana\", \"cherry\"]\n",
    "\n",
    "my_function(fruits)\n",
    "\n",
    "car=[\" BMW\", \"MARUTI\", \"SWIFT\"]\n",
    "\n",
    "my_count(car)"
   ]
  },
  {
   "cell_type": "code",
   "execution_count": null,
   "id": "fc2bfa27-0baa-4918-ba24-bbfb94b88859",
   "metadata": {},
   "outputs": [],
   "source": []
  },
  {
   "cell_type": "code",
   "execution_count": null,
   "id": "c53d084a-9f61-4160-8d93-75fbab81c33f",
   "metadata": {},
   "outputs": [],
   "source": []
  }
 ],
 "metadata": {
  "kernelspec": {
   "display_name": "Python [conda env:base] *",
   "language": "python",
   "name": "conda-base-py"
  },
  "language_info": {
   "codemirror_mode": {
    "name": "ipython",
    "version": 3
   },
   "file_extension": ".py",
   "mimetype": "text/x-python",
   "name": "python",
   "nbconvert_exporter": "python",
   "pygments_lexer": "ipython3",
   "version": "3.12.7"
  }
 },
 "nbformat": 4,
 "nbformat_minor": 5
}
