{
 "cells": [
  {
   "cell_type": "markdown",
   "id": "1225296b-f486-4b28-a889-3604adffe953",
   "metadata": {},
   "source": [
    "# define a python function"
   ]
  },
  {
   "cell_type": "code",
   "execution_count": 2,
   "id": "3d7430a6-1468-4167-bb8f-48d46a78ae55",
   "metadata": {},
   "outputs": [
    {
     "name": "stdout",
     "output_type": "stream",
     "text": [
      "Hello world\n"
     ]
    }
   ],
   "source": [
    "def greetings():\n",
    "    \"this is docstiring of greeting function\"\n",
    "    print(\"Hello world\")\n",
    "    return;\n",
    "greetings()"
   ]
  },
  {
   "cell_type": "code",
   "execution_count": 4,
   "id": "bd8110a0-a112-4e11-b8f1-6324ce8c4499",
   "metadata": {},
   "outputs": [
    {
     "name": "stdout",
     "output_type": "stream",
     "text": [
      "I am first call to user defined funciton!\n",
      " Again second call to use the same function\n"
     ]
    }
   ],
   "source": [
    "def printme(str):\n",
    "    print( str )\n",
    "    return;\n",
    "printme(\"I am first call to user defined funciton!\")\n",
    "printme(\" Again second call to use the same function\")"
   ]
  },
  {
   "cell_type": "code",
   "execution_count": 12,
   "id": "dd038915-af40-43cc-b354-56d9ef127903",
   "metadata": {},
   "outputs": [
    {
     "name": "stdout",
     "output_type": "stream",
     "text": [
      "Hello Sham\n",
      "Hello Pratima\n",
      "Hello Ram\n",
      "Hello ATUL\n"
     ]
    }
   ],
   "source": [
    "def greetings(name):\n",
    "    \"This is docstring of greetings fucntion\"\n",
    "    print(\"Hello {}\". format (name))\n",
    "    return\n",
    "\n",
    "greetings(\"Sham\")\n",
    "greetings(\"Pratima\")\n",
    "greetings(\"Ram\")\n",
    "greetings(\"ATUL\")"
   ]
  },
  {
   "cell_type": "markdown",
   "id": "d085c0d1-4764-4c0b-9a2e-1a271b6ecd36",
   "metadata": {},
   "source": [
    "# pass by reference vs value"
   ]
  },
  {
   "cell_type": "code",
   "execution_count": 17,
   "id": "e8417990-a1b5-4238-9bf6-abc80f30913b",
   "metadata": {},
   "outputs": [
    {
     "name": "stdout",
     "output_type": "stream",
     "text": [
      "ID before passing: 137056762117360\n",
      "Id inside the function: 137056762117360\n"
     ]
    }
   ],
   "source": [
    "def testfunction(arg):\n",
    "    print(\"Id inside the function:\", id (arg))\n",
    "\n",
    "var = \"HELLO\"\n",
    "print(\"ID before passing:\", id (var))\n",
    "testfunction(var)\n"
   ]
  },
  {
   "cell_type": "code",
   "execution_count": 19,
   "id": "f6c0f234-b6ef-4579-b368-9901dc825336",
   "metadata": {},
   "outputs": [
    {
     "name": "stdout",
     "output_type": "stream",
     "text": [
      " ID before passing:  9767048\n",
      " ID inside the function:  9767048\n",
      "new object after increment 11 9767080\n",
      "Value afater function call 10\n"
     ]
    }
   ],
   "source": [
    "def test_function(arg):\n",
    "    print(\" ID inside the function: \", id(arg))\n",
    "    arg = arg +1\n",
    "    print(\"new object after increment\", arg, id(arg))\n",
    "\n",
    "var = 10\n",
    "print(\" ID before passing: \", id (var))\n",
    "test_function(var)\n",
    "print(\"Value afater function call\", var)"
   ]
  },
  {
   "cell_type": "code",
   "execution_count": 23,
   "id": "edc708b4-5b4c-4a92-a5ca-d92b41cb5942",
   "metadata": {},
   "outputs": [
    {
     "name": "stdout",
     "output_type": "stream",
     "text": [
      "ID before passing:  137056591854400\n",
      "Inside function: [10, 20, 30, 40]\n",
      " ID inside the function: [10, 20, 30, 40]\n",
      " ID after function call:  [10, 20, 30, 40, 100]\n"
     ]
    }
   ],
   "source": [
    "def test_function(arg):\n",
    "    print(\"Inside function:\", arg)\n",
    "    print(\" ID inside the function:\", (arg))\n",
    "    arg = arg.append(100)\n",
    "var=[10, 20, 30, 40]\n",
    "print(\"ID before passing: \", id(var))\n",
    "test_function(var)\n",
    "print(\" ID after function call: \", var)"
   ]
  },
  {
   "cell_type": "code",
   "execution_count": null,
   "id": "da3887f3-61f4-4d4f-a531-0c8050573663",
   "metadata": {},
   "outputs": [],
   "source": []
  }
 ],
 "metadata": {
  "kernelspec": {
   "display_name": "Python [conda env:base] *",
   "language": "python",
   "name": "conda-base-py"
  },
  "language_info": {
   "codemirror_mode": {
    "name": "ipython",
    "version": 3
   },
   "file_extension": ".py",
   "mimetype": "text/x-python",
   "name": "python",
   "nbconvert_exporter": "python",
   "pygments_lexer": "ipython3",
   "version": "3.12.7"
  }
 },
 "nbformat": 4,
 "nbformat_minor": 5
}
