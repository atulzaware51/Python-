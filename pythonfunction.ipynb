{
 "cells": [
  {
   "cell_type": "code",
   "execution_count": 3,
   "id": "41d3df1a-2310-49b1-874e-9b3e63c4a94f",
   "metadata": {},
   "outputs": [
    {
     "name": "stdin",
     "output_type": "stream",
     "text": [
      "Enter a number 6\n"
     ]
    },
    {
     "name": "stdout",
     "output_type": "stream",
     "text": [
      "6 is even\n"
     ]
    }
   ],
   "source": [
    "# p1\n",
    "def check_odd_or_even(num):\n",
    "    if num%2==0:\n",
    "        return f\"{num} is even\"\n",
    "    else:\n",
    "        return f\"{num} is odd\"\n",
    "num = int(input(\"Enter a number\"))\n",
    "result = check_odd_or_even(num)\n",
    "print(result)"
   ]
  },
  {
   "cell_type": "code",
   "execution_count": 86,
   "id": "049c9358-14fb-40d2-ac1c-30d5c1eccbaa",
   "metadata": {},
   "outputs": [
    {
     "name": "stdin",
     "output_type": "stream",
     "text": [
      "enter the number 7\n"
     ]
    },
    {
     "name": "stdout",
     "output_type": "stream",
     "text": [
      "the total number aare1\n"
     ]
    }
   ],
   "source": [
    "#p2\n",
    "def countdigi(num):\n",
    "    count = 0\n",
    "    for i in str(abs(num)):\n",
    "        count+=1\n",
    "    return count\n",
    "\n",
    "num = int(input(\"enter the number\"))\n",
    "result = countdigi(num)\n",
    "print(f\"the total number aare{result}\")\n"
   ]
  },
  {
   "cell_type": "code",
   "execution_count": 13,
   "id": "757a1643-1960-4279-ba63-51a39af09d6f",
   "metadata": {},
   "outputs": [
    {
     "name": "stdin",
     "output_type": "stream",
     "text": [
      "enter the value of n 4\n"
     ]
    },
    {
     "name": "stdout",
     "output_type": "stream",
     "text": [
      "4321\n",
      "321\n",
      "21\n",
      "1\n",
      "None\n"
     ]
    }
   ],
   "source": [
    "#p3\n",
    "def print_pyrmd(n):\n",
    "    for i in range(n,0,-1):\n",
    "        for j in range(i, 0,-1):\n",
    "            print(j,end=\"\")\n",
    "        print()\n",
    "\n",
    "n =int(input(\"enter the value of n\"))\n",
    "result = print_pyrmd(n)\n",
    "print(result)"
   ]
  },
  {
   "cell_type": "code",
   "execution_count": 82,
   "id": "3c368f07-8857-454f-ac82-c5a81b6eee1c",
   "metadata": {},
   "outputs": [
    {
     "name": "stdin",
     "output_type": "stream",
     "text": [
      "enter the number 6\n",
      "entrt the number to sopt 12\n"
     ]
    },
    {
     "name": "stdout",
     "output_type": "stream",
     "text": [
      "prime numberare:\n",
      "7\n",
      "11\n"
     ]
    }
   ],
   "source": [
    "#4\n",
    "def print_P(start, end):\n",
    "    for num in range(start,end+1):\n",
    "        if num > 1:\n",
    "            is_prime = True\n",
    "            for i in range(2,int(num**0.5)+1):\n",
    "                 if num%i == 0:\n",
    "                     is_prime = False\n",
    "                     break\n",
    "            if is_prime:\n",
    "                print(num)\n",
    "                \n",
    "start = int(input(\"enter the number\"))\n",
    "end = int(input(\"entrt the number to sopt\"))            \n",
    "print(\"prime numberare:\")\n",
    "print_P(start,end)"
   ]
  },
  {
   "cell_type": "code",
   "execution_count": 65,
   "id": "3c8d6d7d-ace6-469a-ba2c-552c0471a625",
   "metadata": {},
   "outputs": [
    {
     "name": "stdin",
     "output_type": "stream",
     "text": [
      "enter the numbr 8\n"
     ]
    },
    {
     "name": "stdout",
     "output_type": "stream",
     "text": [
      "factorial of the 8 is :40320\n"
     ]
    }
   ],
   "source": [
    "#5\n",
    "def fact(n):\n",
    "    result = 1\n",
    "    for i in range(1,n+1):\n",
    "        result *= i\n",
    "    return result\n",
    "\n",
    "num = int(input(\"enter the numbr\"))\n",
    "result = fact(num)\n",
    "print(f\"factorial of the {num} is :{result}\" )"
   ]
  },
  {
   "cell_type": "code",
   "execution_count": null,
   "id": "3cda9247-e9a1-47f1-9f6c-41422acdf540",
   "metadata": {},
   "outputs": [],
   "source": []
  }
 ],
 "metadata": {
  "kernelspec": {
   "display_name": "Python [conda env:base] *",
   "language": "python",
   "name": "conda-base-py"
  },
  "language_info": {
   "codemirror_mode": {
    "name": "ipython",
    "version": 3
   },
   "file_extension": ".py",
   "mimetype": "text/x-python",
   "name": "python",
   "nbconvert_exporter": "python",
   "pygments_lexer": "ipython3",
   "version": "3.12.7"
  }
 },
 "nbformat": 4,
 "nbformat_minor": 5
}
