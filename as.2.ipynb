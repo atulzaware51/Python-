{
 "cells": [
  {
   "cell_type": "code",
   "execution_count": 7,
   "id": "8d3b1b78-3fc6-4f09-a78d-2280f095aca9",
   "metadata": {},
   "outputs": [
    {
     "ename": "NameError",
     "evalue": "name 'grade' is not defined",
     "output_type": "error",
     "traceback": [
      "\u001b[0;31m---------------------------------------------------------------------------\u001b[0m",
      "\u001b[0;31mNameError\u001b[0m                                 Traceback (most recent call last)",
      "Cell \u001b[0;32mIn[7], line 7\u001b[0m\n\u001b[1;32m      4\u001b[0m         \u001b[38;5;28mprint\u001b[39m(\u001b[38;5;124mf\u001b[39m\u001b[38;5;124m\"\u001b[39m\u001b[38;5;124mName: \u001b[39m\u001b[38;5;132;01m{\u001b[39;00mstd[\u001b[38;5;124m'\u001b[39m\u001b[38;5;124mname\u001b[39m\u001b[38;5;124m'\u001b[39m]\u001b[38;5;132;01m}\u001b[39;00m\u001b[38;5;124m,age:\u001b[39m\u001b[38;5;132;01m{\u001b[39;00mstd[\u001b[38;5;124m'\u001b[39m\u001b[38;5;124mage\u001b[39m\u001b[38;5;124m'\u001b[39m]\u001b[38;5;132;01m}\u001b[39;00m\u001b[38;5;124m, grade\u001b[39m\u001b[38;5;132;01m{\u001b[39;00mgrade[\u001b[38;5;124m'\u001b[39m\u001b[38;5;124mgrade\u001b[39m\u001b[38;5;124m'\u001b[39m]\u001b[38;5;132;01m}\u001b[39;00m\u001b[38;5;124m\"\u001b[39m)\n\u001b[1;32m      6\u001b[0m stds\u001b[38;5;241m=\u001b[39m[{\u001b[38;5;124m\"\u001b[39m\u001b[38;5;124mname\u001b[39m\u001b[38;5;124m\"\u001b[39m:\u001b[38;5;124m\"\u001b[39m\u001b[38;5;124mJohn\u001b[39m\u001b[38;5;124m\"\u001b[39m,\u001b[38;5;124m\"\u001b[39m\u001b[38;5;124mage\u001b[39m\u001b[38;5;124m\"\u001b[39m: \u001b[38;5;241m20\u001b[39m, \u001b[38;5;124m\"\u001b[39m\u001b[38;5;124mgrade\u001b[39m\u001b[38;5;124m\"\u001b[39m:\u001b[38;5;124m\"\u001b[39m\u001b[38;5;124mA\u001b[39m\u001b[38;5;124m\"\u001b[39m},{\u001b[38;5;124m\"\u001b[39m\u001b[38;5;124mname\u001b[39m\u001b[38;5;124m\"\u001b[39m:\u001b[38;5;124m\"\u001b[39m\u001b[38;5;124mAlice\u001b[39m\u001b[38;5;124m\"\u001b[39m,\u001b[38;5;124m\"\u001b[39m\u001b[38;5;124mage\u001b[39m\u001b[38;5;124m\"\u001b[39m: \u001b[38;5;241m21\u001b[39m, \u001b[38;5;124m\"\u001b[39m\u001b[38;5;124mgrade\u001b[39m\u001b[38;5;124m\"\u001b[39m:\u001b[38;5;124m\"\u001b[39m\u001b[38;5;124mB\u001b[39m\u001b[38;5;124m\"\u001b[39m},{\u001b[38;5;124m\"\u001b[39m\u001b[38;5;124mname\u001b[39m\u001b[38;5;124m\"\u001b[39m:\u001b[38;5;124m\"\u001b[39m\u001b[38;5;124mBob\u001b[39m\u001b[38;5;124m\"\u001b[39m,\u001b[38;5;124m\"\u001b[39m\u001b[38;5;124mage\u001b[39m\u001b[38;5;124m\"\u001b[39m: \u001b[38;5;241m19\u001b[39m ,  \u001b[38;5;124m\"\u001b[39m\u001b[38;5;124mgrade\u001b[39m\u001b[38;5;124m\"\u001b[39m:\u001b[38;5;124m\"\u001b[39m\u001b[38;5;124mC\u001b[39m\u001b[38;5;124m\"\u001b[39m}]\n\u001b[0;32m----> 7\u001b[0m dis_std(stds)\n",
      "Cell \u001b[0;32mIn[7], line 4\u001b[0m, in \u001b[0;36mdis_std\u001b[0;34m(stds)\u001b[0m\n\u001b[1;32m      2\u001b[0m \u001b[38;5;28;01mdef\u001b[39;00m \u001b[38;5;21mdis_std\u001b[39m(stds):\n\u001b[1;32m      3\u001b[0m     \u001b[38;5;28;01mfor\u001b[39;00m std \u001b[38;5;129;01min\u001b[39;00m stds:\n\u001b[0;32m----> 4\u001b[0m         \u001b[38;5;28mprint\u001b[39m(\u001b[38;5;124mf\u001b[39m\u001b[38;5;124m\"\u001b[39m\u001b[38;5;124mName: \u001b[39m\u001b[38;5;132;01m{\u001b[39;00mstd[\u001b[38;5;124m'\u001b[39m\u001b[38;5;124mname\u001b[39m\u001b[38;5;124m'\u001b[39m]\u001b[38;5;132;01m}\u001b[39;00m\u001b[38;5;124m,age:\u001b[39m\u001b[38;5;132;01m{\u001b[39;00mstd[\u001b[38;5;124m'\u001b[39m\u001b[38;5;124mage\u001b[39m\u001b[38;5;124m'\u001b[39m]\u001b[38;5;132;01m}\u001b[39;00m\u001b[38;5;124m, grade\u001b[39m\u001b[38;5;132;01m{\u001b[39;00mgrade[\u001b[38;5;124m'\u001b[39m\u001b[38;5;124mgrade\u001b[39m\u001b[38;5;124m'\u001b[39m]\u001b[38;5;132;01m}\u001b[39;00m\u001b[38;5;124m\"\u001b[39m)\n",
      "\u001b[0;31mNameError\u001b[0m: name 'grade' is not defined"
     ]
    }
   ],
   "source": [
    "#tuple\n",
    "def dis_std(stds):\n",
    "    for std in stds:\n",
    "        print(f\"Name: {std['name']},age:{std['age']}, grade{grade['grade']}\")\n",
    "\n",
    "stds=[{\"name\":\"John\",\"age\": 20, \"grade\":\"A\"},{\"name\":\"Alice\",\"age\": 21, \"grade\":\"B\"},{\"name\":\"Bob\",\"age\": 19 ,  \"grade\" :\"C\"}]\n",
    "dis_std(stds)"
   ]
  },
  {
   "cell_type": "code",
   "execution_count": 9,
   "id": "523006a4-a6f9-48ae-837f-c2abae280395",
   "metadata": {},
   "outputs": [
    {
     "ename": "AttributeError",
     "evalue": "'dict' object has no attribute 'item'",
     "output_type": "error",
     "traceback": [
      "\u001b[0;31m---------------------------------------------------------------------------\u001b[0m",
      "\u001b[0;31mAttributeError\u001b[0m                            Traceback (most recent call last)",
      "Cell \u001b[0;32mIn[9], line 8\u001b[0m\n\u001b[1;32m      6\u001b[0m     \u001b[38;5;28mprint\u001b[39m(\u001b[38;5;124mf\u001b[39m\u001b[38;5;124m\"\u001b[39m\u001b[38;5;124mtttoa\u001b[39m\u001b[38;5;132;01m{\u001b[39;00mtotal\u001b[38;5;132;01m}\u001b[39;00m\u001b[38;5;124m\"\u001b[39m)\n\u001b[1;32m      7\u001b[0m gry\u001b[38;5;241m=\u001b[39m{\u001b[38;5;124m\"\u001b[39m\u001b[38;5;124mmilk\u001b[39m\u001b[38;5;124m\"\u001b[39m:\u001b[38;5;241m34\u001b[39m,\u001b[38;5;124m\"\u001b[39m\u001b[38;5;124meggs\u001b[39m\u001b[38;5;124m\"\u001b[39m:\u001b[38;5;241m56\u001b[39m,\u001b[38;5;124m\"\u001b[39m\u001b[38;5;124mbread\u001b[39m\u001b[38;5;124m\"\u001b[39m:\u001b[38;5;241m65\u001b[39m }\n\u001b[0;32m----> 8\u001b[0m cal(gry)\n",
      "Cell \u001b[0;32mIn[9], line 3\u001b[0m, in \u001b[0;36mcal\u001b[0;34m(gry)\u001b[0m\n\u001b[1;32m      1\u001b[0m \u001b[38;5;28;01mdef\u001b[39;00m \u001b[38;5;21mcal\u001b[39m(gry):\n\u001b[1;32m      2\u001b[0m     total \u001b[38;5;241m=\u001b[39m \u001b[38;5;241m0\u001b[39m\n\u001b[0;32m----> 3\u001b[0m     \u001b[38;5;28;01mfor\u001b[39;00m item, price \u001b[38;5;129;01min\u001b[39;00m gry\u001b[38;5;241m.\u001b[39mitem():\n\u001b[1;32m      4\u001b[0m         \u001b[38;5;28mprint\u001b[39m(\u001b[38;5;124mf\u001b[39m\u001b[38;5;124m\"\u001b[39m\u001b[38;5;132;01m{\u001b[39;00mitem\u001b[38;5;132;01m}\u001b[39;00m\u001b[38;5;124m:\u001b[39m\u001b[38;5;132;01m{\u001b[39;00mprice\u001b[38;5;132;01m}\u001b[39;00m\u001b[38;5;124m\"\u001b[39m)\n\u001b[1;32m      5\u001b[0m         total\u001b[38;5;241m+\u001b[39m\u001b[38;5;241m=\u001b[39mprice\n",
      "\u001b[0;31mAttributeError\u001b[0m: 'dict' object has no attribute 'item'"
     ]
    }
   ],
   "source": [
    "def cal(gry):\n",
    "    total = 0\n",
    "    for item, price in gry.item():\n",
    "        print(f\"{item}:{price}\")\n",
    "        total+=price\n",
    "    print(f\"tttoa{total}\")\n",
    "gry={\"milk\":34,\"eggs\":56,\"bread\":65 }\n",
    "cal(gry)\n",
    "\n"
   ]
  },
  {
   "cell_type": "code",
   "execution_count": 13,
   "id": "43edf40b-a3a5-4269-9621-e21212159b90",
   "metadata": {},
   "outputs": [
    {
     "name": "stdout",
     "output_type": "stream",
     "text": [
      "MIlk34\n",
      "Egg46\n",
      "Bread67\n"
     ]
    }
   ],
   "source": [
    "def dis_tiem(items):\n",
    "    for item in items:\n",
    "        print(f\"{item[0]}{item[1]}\")\n",
    "items = [(\"MIlk\", 34),(\"Egg\",46),(\"Bread\",67)]\n",
    "dis_tiem(items)"
   ]
  },
  {
   "cell_type": "code",
   "execution_count": 19,
   "id": "807de4ea-c201-40d8-9e10-88e3afff14e8",
   "metadata": {},
   "outputs": [
    {
     "name": "stdout",
     "output_type": "stream",
     "text": [
      "rajdahni:0,00\n",
      "Shatabi:2.30\n",
      "d:u\n",
      "5:.\n"
     ]
    }
   ],
   "source": [
    "def dis_shel(trainshel):\n",
    "    for train in trainshel:\n",
    "        print(f\"{train[0]}:{train[1]}\")\n",
    "trainshel =[(\"rajdahni\",\"0,00\"),(\"Shatabi\",\"2.30\"),\"duronoto\",\"5.00\"]\n",
    "dis_shel(trainshel)"
   ]
  },
  {
   "cell_type": "code",
   "execution_count": 21,
   "id": "9d502241-75fd-4329-92f6-3e03185a47b5",
   "metadata": {},
   "outputs": [
    {
     "name": "stdout",
     "output_type": "stream",
     "text": [
      "Raj: 300\n",
      "Alice: 500\n",
      "John: 900\n"
     ]
    }
   ],
   "source": [
    "def sortemp(employees):\n",
    "    employees.sort(key=lambda x:x[1])\n",
    "    for employee in employees:\n",
    "        print(f\"{employee[0]}: {employee[1]}\")\n",
    "employees =[(\"John\",900),(\"Alice\",500),(\"Raj\",300)]\n",
    "\n",
    "sortemp(employees)"
   ]
  },
  {
   "cell_type": "code",
   "execution_count": 23,
   "id": "67ae658c-1696-4e66-975a-b716d1446176",
   "metadata": {},
   "outputs": [
    {
     "name": "stdout",
     "output_type": "stream",
     "text": [
      "no of students 2\n"
     ]
    }
   ],
   "source": [
    "def count(marks):\n",
    "    count = 0\n",
    "    for mark in marks:\n",
    "        if mark>75:\n",
    "            count+=1\n",
    "    print(f\"no of students {count}\")\n",
    "marks=[34,76,78,45,67,75,34]\n",
    "count(marks)"
   ]
  },
  {
   "cell_type": "code",
   "execution_count": 29,
   "id": "e261b2c4-c22e-4741-ac78-cbd55dbf158e",
   "metadata": {},
   "outputs": [
    {
     "name": "stdout",
     "output_type": "stream",
     "text": [
      "max 7903.83\n"
     ]
    }
   ],
   "source": [
    "def findmax7(prices):\n",
    "    maxprice = max(prices)\n",
    "    print(f\"max {maxprice}\")\n",
    "prices = (153, 75.893,73 ,7903.83)\n",
    "findmax7(prices)"
   ]
  },
  {
   "cell_type": "code",
   "execution_count": 33,
   "id": "02994724-eeae-486b-b078-19e45a33f0cd",
   "metadata": {},
   "outputs": [
    {
     "name": "stdout",
     "output_type": "stream",
     "text": [
      "average temp is 66.47999999999999\n"
     ]
    }
   ],
   "source": [
    "def cal_avg8(temp):\n",
    "    avgtemp = sum(temp)/len(temp)\n",
    "    print(f\"average temp is {avgtemp}\")\n",
    "temp = (29.0,56.9,78.3,78.9,89.3)\n",
    "cal_avg8(temp)"
   ]
  },
  {
   "cell_type": "code",
   "execution_count": 37,
   "id": "16c1ef65-96de-4802-942b-657608e67e08",
   "metadata": {},
   "outputs": [
    {
     "name": "stdout",
     "output_type": "stream",
     "text": [
      "doctor:10.00\n",
      "Meeting:2.00\n"
     ]
    }
   ],
   "source": [
    "def dis_app9(apps):\n",
    "    for app in apps:\n",
    "        print(f\"{app[0]}:{app[1]}\")\n",
    "apps = ((\"doctor\",\"10.00\"),(\"Meeting\",\"2.00\"))\n",
    "dis_app9(apps)"
   ]
  },
  {
   "cell_type": "code",
   "execution_count": 39,
   "id": "ac3c9806-6c89-4414-8937-d916a9be3124",
   "metadata": {},
   "outputs": [
    {
     "name": "stdout",
     "output_type": "stream",
     "text": [
      "Alice:98765432100\n",
      "Priya:9234567889\n"
     ]
    }
   ],
   "source": [
    "def dis_con(contacts):\n",
    "    for contact in contacts:\n",
    "        print(f\"{contact[0]}:{contact[1]}\")\n",
    "contacts= ((\"Alice\",\"98765432100\"),(\"Priya\",\"9234567889\"))\n",
    "dis_con(contacts)"
   ]
  },
  {
   "cell_type": "code",
   "execution_count": 41,
   "id": "6ae27a35-2f52-4b8b-bab2-6194bcd2ed92",
   "metadata": {},
   "outputs": [
    {
     "name": "stdout",
     "output_type": "stream",
     "text": [
      "maths:9 am\n",
      "science:1:30pm\n",
      "English:3pm\n"
     ]
    }
   ],
   "source": [
    "def dis_exam(exams):\n",
    "    for exam in exams:\n",
    "        print(f\"{exam[0]}:{exam[1]}\")\n",
    "exams = ((\"maths\",\"9 am\"),(\"science\",\"1:30pm\"),(\"English\",\"3pm\"))\n",
    "dis_exam(exams)"
   ]
  },
  {
   "cell_type": "code",
   "execution_count": null,
   "id": "30b27bb9-2033-490f-8b26-29b81e342a2d",
   "metadata": {},
   "outputs": [],
   "source": []
  }
 ],
 "metadata": {
  "kernelspec": {
   "display_name": "Python [conda env:base] *",
   "language": "python",
   "name": "conda-base-py"
  },
  "language_info": {
   "codemirror_mode": {
    "name": "ipython",
    "version": 3
   },
   "file_extension": ".py",
   "mimetype": "text/x-python",
   "name": "python",
   "nbconvert_exporter": "python",
   "pygments_lexer": "ipython3",
   "version": "3.12.7"
  }
 },
 "nbformat": 4,
 "nbformat_minor": 5
}
