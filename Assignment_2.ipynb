{
 "cells": [
  {
   "cell_type": "markdown",
   "id": "0cd7c946",
   "metadata": {},
   "source": [
    "# ASSIGNMENT: 2"
   ]
  },
  {
   "cell_type": "markdown",
   "id": "14b901e4",
   "metadata": {},
   "source": [
    "1]Store and display student information (name, age, grade)."
   ]
  },
  {
   "cell_type": "code",
   "execution_count": 1,
   "id": "896b2ed3",
   "metadata": {},
   "outputs": [
    {
     "name": "stdout",
     "output_type": "stream",
     "text": [
      "student name: Arpit\n",
      "student age: 19\n",
      "student grade: A grade\n"
     ]
    }
   ],
   "source": [
    "student=(\"Arpit\",19,\"A grade\")\n",
    "print(\"student name:\",student[0])\n",
    "print(\"student age:\",student[1])\n",
    "print(\"student grade:\",student[2])"
   ]
  },
  {
   "cell_type": "markdown",
   "id": "15a1bef1",
   "metadata": {},
   "source": [
    "2]List prices of grocery items and total them."
   ]
  },
  {
   "cell_type": "code",
   "execution_count": 2,
   "id": "9ba1998f",
   "metadata": {},
   "outputs": [
    {
     "name": "stdout",
     "output_type": "stream",
     "text": [
      "grocery list:\n",
      "apple: rupee10\n",
      "milk: rupee20\n",
      "soap: rupee30\n",
      "bottle: rupee40\n",
      "rice: rupee50\n",
      "Total cost: rupee 150\n"
     ]
    }
   ],
   "source": [
    "groceries=(\n",
    "(\"apple\",10),\n",
    "(\"milk\",20),\n",
    "(\"soap\",30),\n",
    "(\"bottle\",40),\n",
    "(\"rice\",50)\n",
    ")\n",
    "print(\"grocery list:\")\n",
    "total_cost=0\n",
    "for item in groceries:\n",
    "    print(f\"{item[0]}: rupee{item[1]}\")\n",
    "    total_cost+= item[1]\n",
    "    \n",
    "print(\"Total cost: rupee\",total_cost)"
   ]
  },
  {
   "cell_type": "markdown",
   "id": "28a18893",
   "metadata": {},
   "source": [
    "3]Pair items with prices using tuples. (\"Milk\", 25), (\"Eggs\", 50), (\"Bread\", 20)"
   ]
  },
  {
   "cell_type": "code",
   "execution_count": 3,
   "id": "6c913068",
   "metadata": {},
   "outputs": [
    {
     "name": "stdout",
     "output_type": "stream",
     "text": [
      "Milk: 25\n",
      "Eggs: 50\n",
      "Bread: 20\n"
     ]
    }
   ],
   "source": [
    "groceries = ((\"Milk\",25),(\"Eggs\", 50),(\"Bread\", 20))\n",
    "\n",
    "for item in groceries:\n",
    "    print(f\"{item[0]}: {item[1]}\")"
   ]
  },
  {
   "cell_type": "markdown",
   "id": "75245b7f",
   "metadata": {},
   "source": [
    "4]Store and display train schedule as tuples. (\"Rajdhani\",\"10:00\"), (\"Shatabdi\",\"12:30\"), (\"Duronto\",\"17:00\")"
   ]
  },
  {
   "cell_type": "code",
   "execution_count": 4,
   "id": "50d7d89c",
   "metadata": {},
   "outputs": [
    {
     "name": "stdout",
     "output_type": "stream",
     "text": [
      "Train and its Time:\n",
      "Rajdhani=10:00\n",
      "Shatabdi=12:30\n",
      "Duronto=17:00\n"
     ]
    }
   ],
   "source": [
    "Schedule=(\n",
    "    (\"Rajdhani\",\"10:00\"),\n",
    "    (\"Shatabdi\",\"12:30\"),\n",
    "    (\"Duronto\",\"17:00\")\n",
    ")\n",
    "print(\"Train and its Time:\")\n",
    "for train in Schedule:\n",
    "    print(f\"{train[0]}={train[1]}\")"
   ]
  },
  {
   "cell_type": "markdown",
   "id": "10e4be15",
   "metadata": {},
   "source": [
    "5] Sort employee records by salary. (\"John\", 40000), (\"Alice\", 55000), (\"Raj\", 30000)"
   ]
  },
  {
   "cell_type": "code",
   "execution_count": 5,
   "id": "c424e522",
   "metadata": {},
   "outputs": [
    {
     "name": "stdout",
     "output_type": "stream",
     "text": [
      "('Raj', 30000)\n",
      "('John', 40000)\n",
      "('Alice', 55000)\n"
     ]
    }
   ],
   "source": [
    "employee_rec = ((\"John\", 40000), (\"Alice\", 55000), (\"Raj\", 30000))\n",
    "\n",
    "sorted_employees = sorted(employee_rec, key = lambda x: x[1])\n",
    "\n",
    "for emp in sorted_employees:\n",
    "    print(emp)    "
   ]
  },
  {
   "cell_type": "markdown",
   "id": "5b9f468f",
   "metadata": {},
   "source": [
    "6]Count how many students scored above 75 marks. marks = (67, 88, 92, 74, 76, 55)"
   ]
  },
  {
   "cell_type": "code",
   "execution_count": 6,
   "id": "c327a238",
   "metadata": {},
   "outputs": [
    {
     "name": "stdout",
     "output_type": "stream",
     "text": [
      "The number of students who scored above 75 is 3\n"
     ]
    }
   ],
   "source": [
    "students = (67, 88, 92, 74, 76, 55)\n",
    "\n",
    "above_75 = 0\n",
    "for student in students:\n",
    "    if(student > 75):\n",
    "        above_75+=1\n",
    "\n",
    "print(f\"The number of students who scored above 75 is {above_75}\")"
   ]
  },
  {
   "cell_type": "markdown",
   "id": "8218132f",
   "metadata": {},
   "source": [
    "7]Create a tuple of stock prices and find the max. Prices = (154.5, 160.2, 149.8, 170.1)"
   ]
  },
  {
   "cell_type": "code",
   "execution_count": 7,
   "id": "4fa48d7a",
   "metadata": {},
   "outputs": [
    {
     "name": "stdout",
     "output_type": "stream",
     "text": [
      "170.1\n"
     ]
    }
   ],
   "source": [
    "prices = (154.5, 160.2, 149.8, 170.1)\n",
    "\n",
    "max = 0\n",
    "for price in prices:\n",
    "    if max < price:\n",
    "        max = price\n",
    "print(f\"{max}\")"
   ]
  },
  {
   "cell_type": "markdown",
   "id": "8cc21f85",
   "metadata": {},
   "source": [
    "8]Log temperature readings during the day. Find the average temperature temperatures = (29.5, 30.0, 32.2,\n",
    "31.5, 28.9)"
   ]
  },
  {
   "cell_type": "code",
   "execution_count": 8,
   "id": "76f10a02",
   "metadata": {},
   "outputs": [
    {
     "name": "stdout",
     "output_type": "stream",
     "text": [
      "Average Temperature=30.42 c\n"
     ]
    }
   ],
   "source": [
    "temperatures = (29.5, 30.0, 32.2, 31.5, 28.9)\n",
    "Average_temp=sum(temperatures)/len(temperatures)\n",
    "print(f\"Average Temperature={Average_temp:.2f} c\")"
   ]
  },
  {
   "cell_type": "markdown",
   "id": "bf6d8ab7",
   "metadata": {},
   "source": [
    "9]Schedule appointments (name, time). appointments = (\"Doctor\", \"10:00 AM\"), (\"Meeting\",\"2:00 PM\")"
   ]
  },
  {
   "cell_type": "code",
   "execution_count": 1,
   "id": "85ebccb8",
   "metadata": {},
   "outputs": [
    {
     "name": "stdout",
     "output_type": "stream",
     "text": [
      "Appointments:\n",
      "Doctor->10:00 AM\n",
      "Meeting->2:00 PM\n"
     ]
    }
   ],
   "source": [
    "appointments = (\n",
    "(\"Doctor\", \"10:00 AM\"),\n",
    "(\"Meeting\",\"2:00 PM\")\n",
    ")\n",
    "print(\"Appointments:\")\n",
    "for appointment in appointments:\n",
    "    print(f\"{appointment[0]}->{appointment[1]}\")"
   ]
  },
  {
   "cell_type": "markdown",
   "id": "81ce9141",
   "metadata": {},
   "source": [
    "10]Store contact info (name, phone number). contacts = (\"Anil\",\"9876543210\"), (\"Priya\",\"9123456780\")"
   ]
  },
  {
   "cell_type": "code",
   "execution_count": 11,
   "id": "332544be",
   "metadata": {},
   "outputs": [
    {
     "name": "stdout",
     "output_type": "stream",
     "text": [
      "Contact List:\n",
      "Name:Anil, Phone number:9876543210\n",
      "Name:Priya, Phone number:9123456780\n"
     ]
    }
   ],
   "source": [
    "contacts = (\n",
    "(\"Anil\",\"9876543210\"),\n",
    "(\"Priya\",\"9123456780\")\n",
    ")\n",
    "print(\"Contact List:\")\n",
    "for contact in contacts:\n",
    "    print(f\"Name:{contact[0]}, Phone number:{contact[1]}\")"
   ]
  },
  {
   "cell_type": "markdown",
   "id": "1b619605",
   "metadata": {},
   "source": [
    "11]Display exam schedule with subject and time. exams = (\"Math\", \"9:00 AM\"), (\"Science\", \"11:30 AM\"),\n",
    "(\"English\", \"2:00 PM\")"
   ]
  },
  {
   "cell_type": "code",
   "execution_count": null,
   "id": "0aa5d911",
   "metadata": {},
   "outputs": [
    {
     "name": "stdout",
     "output_type": "stream",
     "text": [
      "Math: 9:00 AM\n",
      "Science: 11:30 AM\n",
      "English: 2:00 PM\n"
     ]
    }
   ],
   "source": [
    "exams = (\"Math\", \"9:00 AM\"), (\"Science\", \"11:30 AM\"), (\"English\", \"2:00 PM\") \n",
    "\n",
    "for exam in exams:\n",
    "    print(f\"{exam[0]}: {exam[1]}\")\n",
    "    \n",
    "    "
   ]
  }
 ],
 "metadata": {
  "kernelspec": {
   "display_name": "Python [conda env:base] *",
   "language": "python",
   "name": "conda-base-py"
  },
  "language_info": {
   "codemirror_mode": {
    "name": "ipython",
    "version": 3
   },
   "file_extension": ".py",
   "mimetype": "text/x-python",
   "name": "python",
   "nbconvert_exporter": "python",
   "pygments_lexer": "ipython3",
   "version": "3.12.7"
  }
 },
 "nbformat": 4,
 "nbformat_minor": 5
}
