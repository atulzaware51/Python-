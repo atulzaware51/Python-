{
 "cells": [
  {
   "cell_type": "markdown",
   "id": "8e3c1b5c-75c3-4918-9004-cb64e9874baa",
   "metadata": {},
   "source": [
    "# Hello"
   ]
  },
  {
   "cell_type": "markdown",
   "id": "54961f7c-bce4-416a-8540-144ac0272088",
   "metadata": {},
   "source": [
    "## Hello World"
   ]
  },
  {
   "cell_type": "markdown",
   "id": "aa2bc3bf-e9a8-42e1-adc2-c5b37b7d4c59",
   "metadata": {},
   "source": [
    "- data type"
   ]
  },
  {
   "cell_type": "markdown",
   "id": "660d0aec-a6b4-4fd2-be60-472bef536a7f",
   "metadata": {},
   "source": [
    "type(1)"
   ]
  },
  {
   "cell_type": "code",
   "execution_count": 7,
   "id": "cc653eaa-93cc-413f-8527-5b3740b3d5c8",
   "metadata": {},
   "outputs": [
    {
     "data": {
      "text/plain": [
       "int"
      ]
     },
     "execution_count": 7,
     "metadata": {},
     "output_type": "execute_result"
    }
   ],
   "source": [
    "type(1)"
   ]
  },
  {
   "cell_type": "code",
   "execution_count": 9,
   "id": "62d4c0f6-8ec3-47eb-b3b6-b4a41fc7cf6d",
   "metadata": {},
   "outputs": [
    {
     "data": {
      "text/plain": [
       "str"
      ]
     },
     "execution_count": 9,
     "metadata": {},
     "output_type": "execute_result"
    }
   ],
   "source": [
    "type(\"Hello\")"
   ]
  },
  {
   "cell_type": "code",
   "execution_count": 11,
   "id": "71feb2c8-3547-4d2d-b5d1-34e5abe91184",
   "metadata": {},
   "outputs": [
    {
     "data": {
      "text/plain": [
       "bool"
      ]
     },
     "execution_count": 11,
     "metadata": {},
     "output_type": "execute_result"
    }
   ],
   "source": [
    "type(True)"
   ]
  },
  {
   "cell_type": "code",
   "execution_count": 13,
   "id": "605585be-686f-4dce-96e1-15e1925db2a4",
   "metadata": {},
   "outputs": [
    {
     "data": {
      "text/plain": [
       "float"
      ]
     },
     "execution_count": 13,
     "metadata": {},
     "output_type": "execute_result"
    }
   ],
   "source": [
    "type(1.0)"
   ]
  },
  {
   "cell_type": "markdown",
   "id": "1e8abf9d-10b8-47e4-9f39-a4858ad4f7ad",
   "metadata": {},
   "source": [
    "- String"
   ]
  },
  {
   "cell_type": "code",
   "execution_count": 16,
   "id": "fbb1b652-b08a-4bfc-8f63-3673aea3c19d",
   "metadata": {},
   "outputs": [
    {
     "data": {
      "text/plain": [
       "'hello'"
      ]
     },
     "execution_count": 16,
     "metadata": {},
     "output_type": "execute_result"
    }
   ],
   "source": [
    "\"hello\""
   ]
  },
  {
   "cell_type": "code",
   "execution_count": 18,
   "id": "cb308f81-717f-4b4a-8d54-48760b8435b7",
   "metadata": {},
   "outputs": [
    {
     "data": {
      "text/plain": [
       "'hello'"
      ]
     },
     "execution_count": 18,
     "metadata": {},
     "output_type": "execute_result"
    }
   ],
   "source": [
    "'hello'"
   ]
  },
  {
   "cell_type": "code",
   "execution_count": 20,
   "id": "b4b12cb3-2fff-4d8a-8749-a8602e01412a",
   "metadata": {},
   "outputs": [
    {
     "data": {
      "text/plain": [
       "str"
      ]
     },
     "execution_count": 20,
     "metadata": {},
     "output_type": "execute_result"
    }
   ],
   "source": [
    "type(\"Hello\")"
   ]
  },
  {
   "cell_type": "code",
   "execution_count": 22,
   "id": "631d48f2-3c28-471b-9aff-41159302655a",
   "metadata": {},
   "outputs": [
    {
     "data": {
      "text/plain": [
       "str"
      ]
     },
     "execution_count": 22,
     "metadata": {},
     "output_type": "execute_result"
    }
   ],
   "source": [
    "type('Hello')"
   ]
  },
  {
   "cell_type": "markdown",
   "id": "c5d07bb0-ed36-4ec0-b02f-843bbb593d52",
   "metadata": {},
   "source": [
    "# Variable Assignment"
   ]
  },
  {
   "cell_type": "code",
   "execution_count": 25,
   "id": "06eb5cd7-d963-4734-8fc4-8ba2fbe0f08a",
   "metadata": {},
   "outputs": [],
   "source": [
    "# var name = value"
   ]
  },
  {
   "cell_type": "code",
   "execution_count": 27,
   "id": "8b14d4bb-d13f-4671-80cd-21a9e5453b02",
   "metadata": {},
   "outputs": [],
   "source": [
    "a = 10"
   ]
  },
  {
   "cell_type": "code",
   "execution_count": 29,
   "id": "4b9dc641-ab64-4a02-8ad3-b472f1e60da6",
   "metadata": {},
   "outputs": [
    {
     "data": {
      "text/plain": [
       "int"
      ]
     },
     "execution_count": 29,
     "metadata": {},
     "output_type": "execute_result"
    }
   ],
   "source": [
    "type(a)"
   ]
  },
  {
   "cell_type": "code",
   "execution_count": 31,
   "id": "cd665c25-be61-4a1f-8683-e524eca5bdb6",
   "metadata": {},
   "outputs": [],
   "source": [
    "a = \"AAC\""
   ]
  },
  {
   "cell_type": "code",
   "execution_count": 33,
   "id": "ce7d3b49-18d9-4a14-bcf5-4092b5238944",
   "metadata": {},
   "outputs": [
    {
     "data": {
      "text/plain": [
       "str"
      ]
     },
     "execution_count": 33,
     "metadata": {},
     "output_type": "execute_result"
    }
   ],
   "source": [
    "type(a)"
   ]
  },
  {
   "cell_type": "code",
   "execution_count": 35,
   "id": "34b85b3c-7bc6-420a-b4f0-2eafbf429375",
   "metadata": {},
   "outputs": [],
   "source": [
    "## Mathematical Operation\n",
    "a = 10\n",
    "b = 20"
   ]
  },
  {
   "cell_type": "code",
   "execution_count": 37,
   "id": "339173ed-de1e-4bc7-8b63-3c8fedb4530d",
   "metadata": {},
   "outputs": [
    {
     "name": "stdout",
     "output_type": "stream",
     "text": [
      "30\n",
      "200\n",
      "0\n",
      "200.5\n"
     ]
    }
   ],
   "source": [
    "print(a+b)\n",
    "print(a*b)\n",
    "print(b%a)\n",
    "print((a*b)+(a/b))"
   ]
  },
  {
   "cell_type": "markdown",
   "id": "5fad1512-ace4-4ba2-90c5-f0b5ea058b0f",
   "metadata": {},
   "source": [
    "# Print"
   ]
  },
  {
   "cell_type": "markdown",
   "id": "c0b1f9aa-992e-4427-8127-3da281781e5e",
   "metadata": {},
   "source": [
    "## Single variable"
   ]
  },
  {
   "cell_type": "code",
   "execution_count": 43,
   "id": "4cee0c8a-8dde-4737-9a72-c2cd3ede78d2",
   "metadata": {},
   "outputs": [
    {
     "name": "stdout",
     "output_type": "stream",
     "text": [
      "Ram is 25 Lonere\n"
     ]
    }
   ],
   "source": [
    "s = \"Ram is\"\n",
    "age = 25\n",
    "city = \"Lonere\"\n",
    "print(s, age, city)"
   ]
  },
  {
   "cell_type": "code",
   "execution_count": 45,
   "id": "e612748b-5cac-4225-b343-6b472a260832",
   "metadata": {},
   "outputs": [
    {
     "name": "stdout",
     "output_type": "stream",
     "text": [
      "AAC\n"
     ]
    }
   ],
   "source": [
    "print('AAC')"
   ]
  },
  {
   "cell_type": "code",
   "execution_count": 47,
   "id": "2d1a053d-1984-4e5c-9aa3-49c57fbe75a0",
   "metadata": {},
   "outputs": [],
   "source": [
    "first_name = 'Arpit'\n",
    "last_name = 'Chalke'"
   ]
  },
  {
   "cell_type": "code",
   "execution_count": 49,
   "id": "cac983ae-adf6-4ddf-b8b0-9c06ca0a5b2c",
   "metadata": {},
   "outputs": [
    {
     "name": "stdout",
     "output_type": "stream",
     "text": [
      "My first name is Arpit and Last name is Chalke\n"
     ]
    }
   ],
   "source": [
    "print(\"My first name is {} and Last name is {}\".format(first_name,last_name))"
   ]
  },
  {
   "cell_type": "code",
   "execution_count": 51,
   "id": "0e44708a-49fc-4000-816b-ed0c88bb4477",
   "metadata": {},
   "outputs": [
    {
     "name": "stdout",
     "output_type": "stream",
     "text": [
      "My last name is Chalke and first name is Arpit\n"
     ]
    }
   ],
   "source": [
    "print(\"My last name is {} and first name is {}\".format(last_name,first_name))"
   ]
  },
  {
   "cell_type": "code",
   "execution_count": 53,
   "id": "3c198787-3dd7-44b6-a1aa-8b5547ad54d4",
   "metadata": {},
   "outputs": [
    {
     "name": "stdout",
     "output_type": "stream",
     "text": [
      "My first name is Arpit and Last name is Chalke\n"
     ]
    }
   ],
   "source": [
    "print(\"My first name is {first} and Last name is {last}\".format(first=first_name, last = last_name))"
   ]
  },
  {
   "cell_type": "code",
   "execution_count": 57,
   "id": "c545e71f-2aa8-4015-b708-1126cd6ae234",
   "metadata": {},
   "outputs": [
    {
     "name": "stdout",
     "output_type": "stream",
     "text": [
      "My first name is Arpit and Last name is Chalke\n"
     ]
    }
   ],
   "source": [
    "print(\"My first name is {first} and Last name is {last}\".format(last = last_name, first=first_name))"
   ]
  },
  {
   "cell_type": "markdown",
   "id": "d4d5dffc-b8f3-4a40-8f33-77a28ae7bb95",
   "metadata": {},
   "source": [
    "# Using sep and end parameter"
   ]
  },
  {
   "cell_type": "markdown",
   "id": "61a49b5f-ca55-4a52-92f5-18e307c706b2",
   "metadata": {},
   "source": [
    "## End Parameter with '@'"
   ]
  },
  {
   "cell_type": "code",
   "execution_count": 61,
   "id": "2c24c47f-e5cc-4d37-aa8a-e176e0741e9b",
   "metadata": {},
   "outputs": [
    {
     "name": "stdout",
     "output_type": "stream",
     "text": [
      "Python@programming\n"
     ]
    }
   ],
   "source": [
    "print(\"Python\", end='@')\n",
    "print(\"programming\")"
   ]
  },
  {
   "cell_type": "code",
   "execution_count": 63,
   "id": "921ee62c-d1d7-445b-8811-1176eeeff286",
   "metadata": {},
   "outputs": [
    {
     "name": "stdout",
     "output_type": "stream",
     "text": [
      "pratik@dbatu.ac.in\n"
     ]
    }
   ],
   "source": [
    "print('pratik','dbatu.ac.in', sep='@')"
   ]
  },
  {
   "cell_type": "markdown",
   "id": "cf6dafc0-0f58-468d-8337-00c37df0e5ee",
   "metadata": {},
   "source": [
    "## Separating With Comma"
   ]
  },
  {
   "cell_type": "code",
   "execution_count": 69,
   "id": "15bf124a-9b3c-4e74-af7d-58cbc522c0e8",
   "metadata": {},
   "outputs": [
    {
     "name": "stdout",
     "output_type": "stream",
     "text": [
      "GFG\n"
     ]
    }
   ],
   "source": [
    "print('G','F', 'G', sep='')"
   ]
  },
  {
   "cell_type": "markdown",
   "id": "2c258af6-286e-440f-9338-98c8b8e7a5bf",
   "metadata": {},
   "source": [
    "## for formatting a data"
   ]
  },
  {
   "cell_type": "code",
   "execution_count": 73,
   "id": "df621a6d-2086-4ce5-a786-dc1a41e06570",
   "metadata": {},
   "outputs": [
    {
     "name": "stdout",
     "output_type": "stream",
     "text": [
      "09-02-2025\n"
     ]
    }
   ],
   "source": [
    "print('09', '02', '2025', sep='-')"
   ]
  },
  {
   "cell_type": "markdown",
   "id": "5a913e40-1a1f-4170-bd2c-c8656d1d154c",
   "metadata": {},
   "source": [
    "## Using f-string"
   ]
  },
  {
   "cell_type": "code",
   "execution_count": 78,
   "id": "da2461e2-ffac-4cf0-bbad-76c074f88ad5",
   "metadata": {},
   "outputs": [
    {
     "name": "stdout",
     "output_type": "stream",
     "text": [
      "Hello, My name is Arpit and I'm 18 years old.\n"
     ]
    }
   ],
   "source": [
    "name = 'Arpit'\n",
    "age = 18\n",
    "print(f\"Hello, My name is {name} and I'm {age} years old.\") "
   ]
  },
  {
   "cell_type": "markdown",
   "id": "10e76a5c-4418-4c73-9083-28ca3b417b70",
   "metadata": {},
   "source": [
    "## Using the % Operator"
   ]
  },
  {
   "cell_type": "code",
   "execution_count": 81,
   "id": "b0d691d9-b9d8-4db5-b836-bc84693a36c1",
   "metadata": {},
   "outputs": [
    {
     "name": "stdin",
     "output_type": "stream",
     "text": [
      "Enter a value:  5\n"
     ]
    },
    {
     "name": "stdout",
     "output_type": "stream",
     "text": [
      "The sum is 10\n"
     ]
    }
   ],
   "source": [
    "# Taking input from user\n",
    "num = int(input(\"Enter a value: \"))\n",
    "add = num + 5\n",
    "\n",
    "#Output\n",
    "print(\"The sum is %d\" %add)"
   ]
  },
  {
   "cell_type": "markdown",
   "id": "83fc46cc-4b96-4b4c-a2c3-a0dc668303a5",
   "metadata": {},
   "source": [
    "# Take Multiple input in Python"
   ]
  },
  {
   "cell_type": "code",
   "execution_count": 92,
   "id": "4d4907c7-44d0-43b2-a2e1-0ca6984ce326",
   "metadata": {},
   "outputs": [
    {
     "name": "stdin",
     "output_type": "stream",
     "text": [
      "Enter two values:  5 5\n"
     ]
    },
    {
     "name": "stdout",
     "output_type": "stream",
     "text": [
      "Number of boys:  5\n",
      "Number of girls:  5\n"
     ]
    }
   ],
   "source": [
    "# taking two inputs at a time\n",
    "x,y = input(\"Enter two values: \").split()\n",
    "print(\"Number of boys: \", x)\n",
    "print(\"Number of girls: \", y)"
   ]
  },
  {
   "cell_type": "code",
   "execution_count": 98,
   "id": "6a6fe4e3-d02f-49ce-b671-3bfee319d57a",
   "metadata": {},
   "outputs": [
    {
     "name": "stdin",
     "output_type": "stream",
     "text": [
      "Enter three values:  15 8 7\n"
     ]
    },
    {
     "name": "stdout",
     "output_type": "stream",
     "text": [
      "Total number of students:  15\n",
      "Number of boys:  8\n",
      "Number of girls:  7\n"
     ]
    }
   ],
   "source": [
    "# taking three inputs at a time\n",
    "x,y,z = input(\"Enter three values: \").split()\n",
    "print(\"Total number of students: \", x)\n",
    "print(\"Number of boys: \", y)\n",
    "print(\"Number of girls: \", z)"
   ]
  },
  {
   "cell_type": "markdown",
   "id": "5053c120-1f64-48ff-9172-aa1bad095798",
   "metadata": {},
   "source": [
    "## Take Conditional Input from user in Python"
   ]
  },
  {
   "cell_type": "code",
   "execution_count": 103,
   "id": "138062db-0659-4d47-9707-d5737a388ef4",
   "metadata": {},
   "outputs": [
    {
     "name": "stdin",
     "output_type": "stream",
     "text": [
      "Enter your age:  19\n"
     ]
    },
    {
     "name": "stdout",
     "output_type": "stream",
     "text": [
      "You are an adult.\n"
     ]
    }
   ],
   "source": [
    "# Prompting the user for input\n",
    "age_input = input(\"Enter your age: \")\n",
    "\n",
    "# Converting the input to an integer\n",
    "age = int(age_input)\n",
    "\n",
    "# Checking conditions based on user input\n",
    "if age < 0:\n",
    "    print(\"Please enter a valid age.\")\n",
    "elif age < 18: \n",
    "    print(\"You are a minor.\")\n",
    "elif age >= 18 and age < 65:\n",
    "    print(\"You are an adult.\")\n",
    "else:\n",
    "    print(\"You are a senior citizen.\")"
   ]
  },
  {
   "cell_type": "code",
   "execution_count": null,
   "id": "ced76142-5143-4fc3-87be-d8411f6fe1da",
   "metadata": {},
   "outputs": [],
   "source": []
  }
 ],
 "metadata": {
  "kernelspec": {
   "display_name": "Python [conda env:base] *",
   "language": "python",
   "name": "conda-base-py"
  },
  "language_info": {
   "codemirror_mode": {
    "name": "ipython",
    "version": 3
   },
   "file_extension": ".py",
   "mimetype": "text/x-python",
   "name": "python",
   "nbconvert_exporter": "python",
   "pygments_lexer": "ipython3",
   "version": "3.12.7"
  }
 },
 "nbformat": 4,
 "nbformat_minor": 5
}
