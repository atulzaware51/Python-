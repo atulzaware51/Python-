{
 "cells": [
  {
   "cell_type": "code",
   "execution_count": 6,
   "id": "7be48470-cbba-47cd-82fe-c971dc337b41",
   "metadata": {},
   "outputs": [
    {
     "name": "stdin",
     "output_type": "stream",
     "text": [
      "enter key value pair name, atul,age 22,cpurse,cs\n"
     ]
    },
    {
     "ename": "NameError",
     "evalue": "name 'pairs' is not defined",
     "output_type": "error",
     "traceback": [
      "\u001b[0;31m---------------------------------------------------------------------------\u001b[0m",
      "\u001b[0;31mNameError\u001b[0m                                 Traceback (most recent call last)",
      "Cell \u001b[0;32mIn[6], line 4\u001b[0m\n\u001b[1;32m      2\u001b[0m paris\u001b[38;5;241m=\u001b[39mui\u001b[38;5;241m.\u001b[39msplit()\n\u001b[1;32m      3\u001b[0m my_dict \u001b[38;5;241m=\u001b[39m {}\n\u001b[0;32m----> 4\u001b[0m \u001b[38;5;28;01mfor\u001b[39;00m pair \u001b[38;5;129;01min\u001b[39;00m pairs:\n\u001b[1;32m      5\u001b[0m     key, value \u001b[38;5;241m=\u001b[39m pair\u001b[38;5;241m.\u001b[39msplit(\u001b[38;5;124m'\u001b[39m\u001b[38;5;124m,\u001b[39m\u001b[38;5;124m'\u001b[39m)\n\u001b[1;32m      6\u001b[0m     my_dict[key] \u001b[38;5;241m=\u001b[39m value\n",
      "\u001b[0;31mNameError\u001b[0m: name 'pairs' is not defined"
     ]
    }
   ],
   "source": [
    "ui=input(\"enter key value pair\")\n",
    "paris=ui.split()\n",
    "my_dict = {}\n",
    "for pair in pairs:\n",
    "    key, value = pair.split(',')\n",
    "    my_dict[key] = value\n",
    "print(my_dict)"
   ]
  },
  {
   "cell_type": "code",
   "execution_count": 8,
   "id": "ca9e4be8-62bd-4403-9646-4a21e20c57af",
   "metadata": {},
   "outputs": [
    {
     "name": "stdout",
     "output_type": "stream",
     "text": [
      "{'b': 1, 'a': 3, 'n': 2}\n"
     ]
    }
   ],
   "source": [
    "string = \"banana\"\n",
    "charfe={}\n",
    "for char in string:\n",
    "    if char in charfe:\n",
    "        charfe[char] +=1\n",
    "    else:\n",
    "        charfe[char] =1\n",
    "print(charfe) "
   ]
  },
  {
   "cell_type": "code",
   "execution_count": 16,
   "id": "667d03df-4ef1-4d2f-be8a-7f2587d2e24e",
   "metadata": {},
   "outputs": [
    {
     "name": "stdout",
     "output_type": "stream",
     "text": [
      "{'a': 1, 'b': 3, 'c': 5}\n"
     ]
    }
   ],
   "source": [
    "dict_1 = {'a':1, 'b': 2}\n",
    "dict_2 = {'b':3, 'c': 5}\n",
    "merge_dict={**dict_1,**dict_2}\n",
    "print(merge_dict)"
   ]
  },
  {
   "cell_type": "code",
   "execution_count": 18,
   "id": "0eb22a4f-52c9-4c16-8700-8beb47cba3a1",
   "metadata": {},
   "outputs": [
    {
     "ename": "NameError",
     "evalue": "name 'max_subject' is not defined",
     "output_type": "error",
     "traceback": [
      "\u001b[0;31m---------------------------------------------------------------------------\u001b[0m",
      "\u001b[0;31mNameError\u001b[0m                                 Traceback (most recent call last)",
      "Cell \u001b[0;32mIn[18], line 4\u001b[0m\n\u001b[1;32m      2\u001b[0m max_sub\u001b[38;5;241m=\u001b[39m \u001b[38;5;28mmax\u001b[39m(marks, key\u001b[38;5;241m=\u001b[39mmarks\u001b[38;5;241m.\u001b[39mget)\n\u001b[1;32m      3\u001b[0m min_sub\u001b[38;5;241m=\u001b[39m \u001b[38;5;28mmax\u001b[39m(marks, key\u001b[38;5;241m=\u001b[39mmarks\u001b[38;5;241m.\u001b[39mget)\n\u001b[0;32m----> 4\u001b[0m \u001b[38;5;28mprint\u001b[39m(\u001b[38;5;124mf\u001b[39m\u001b[38;5;124m\"\u001b[39m\u001b[38;5;124mmaximum: -> subject\u001b[39m\u001b[38;5;132;01m{\u001b[39;00mmax_subject\u001b[38;5;132;01m}\u001b[39;00m\u001b[38;5;124m -> marks\u001b[39m\u001b[38;5;132;01m{\u001b[39;00mmax_marks\u001b[38;5;132;01m}\u001b[39;00m\u001b[38;5;124m \u001b[39m\u001b[38;5;124m\"\u001b[39m)\n\u001b[1;32m      6\u001b[0m \u001b[38;5;28mprint\u001b[39m(\u001b[38;5;124mf\u001b[39m\u001b[38;5;124m\"\u001b[39m\u001b[38;5;124mminmum: -> subject\u001b[39m\u001b[38;5;132;01m{\u001b[39;00mmax_subject\u001b[38;5;132;01m}\u001b[39;00m\u001b[38;5;124m -> marks\u001b[39m\u001b[38;5;132;01m{\u001b[39;00mmin_marks\u001b[38;5;132;01m}\u001b[39;00m\u001b[38;5;124m \u001b[39m\u001b[38;5;124m\"\u001b[39m)\n",
      "\u001b[0;31mNameError\u001b[0m: name 'max_subject' is not defined"
     ]
    }
   ],
   "source": [
    "marks = {'math' : 88, 'science': 90, 'eng;idh':76}\n",
    "max_sub= max(marks, key=marks.get)\n",
    "min_sub= max(marks, key=marks.get)\n",
    "print(f\"maximum: -> subject{max_subject} -> marks{max_marks} \")\n",
    "\n",
    "print(f\"minmum: -> subject{max_subject} -> marks{min_marks} \")"
   ]
  },
  {
   "cell_type": "code",
   "execution_count": 20,
   "id": "77881552-2315-44ca-b84e-332c2693e1f3",
   "metadata": {},
   "outputs": [
    {
     "name": "stdout",
     "output_type": "stream",
     "text": [
      "{'name': 'john', 'age': 24, 'gender': 'male'}\n"
     ]
    }
   ],
   "source": [
    "person= {'name':'john','age':24}\n",
    "key = 'gender'\n",
    "value = 'male'\n",
    "if key not in person:\n",
    "    person[key] = value\n",
    "print(person)"
   ]
  },
  {
   "cell_type": "code",
   "execution_count": null,
   "id": "488408cb-699e-4756-a1d9-a46824cc1a44",
   "metadata": {},
   "outputs": [],
   "source": [
    " "
   ]
  },
  {
   "cell_type": "code",
   "execution_count": null,
   "id": "8437f6ba-8fdc-4124-9d5d-89a919da42fa",
   "metadata": {},
   "outputs": [],
   "source": []
  }
 ],
 "metadata": {
  "kernelspec": {
   "display_name": "Python [conda env:base] *",
   "language": "python",
   "name": "conda-base-py"
  },
  "language_info": {
   "codemirror_mode": {
    "name": "ipython",
    "version": 3
   },
   "file_extension": ".py",
   "mimetype": "text/x-python",
   "name": "python",
   "nbconvert_exporter": "python",
   "pygments_lexer": "ipython3",
   "version": "3.12.7"
  }
 },
 "nbformat": 4,
 "nbformat_minor": 5
}
