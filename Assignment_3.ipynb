{
 "cells": [
  {
   "cell_type": "markdown",
   "id": "a85608c7-60be-401f-a422-8aa88bdbab1e",
   "metadata": {},
   "source": [
    "# Practical Assignment 3"
   ]
  },
  {
   "cell_type": "markdown",
   "id": "4350f575-453f-483d-aa24-8cc26b5c5925",
   "metadata": {},
   "source": [
    "Note: Take the set element as per your choice"
   ]
  },
  {
   "cell_type": "markdown",
   "id": "93ea40bb-94f8-491b-a2df-04a509d81486",
   "metadata": {},
   "source": [
    "## Basic Set Programs"
   ]
  },
  {
   "cell_type": "markdown",
   "id": "f3de8409-de63-4da9-acb8-c40bb54c7c34",
   "metadata": {},
   "source": [
    "1. Create a set and display its elements"
   ]
  },
  {
   "cell_type": "code",
   "execution_count": 7,
   "id": "43f0c89e-c4a1-470c-8703-7dfca1032835",
   "metadata": {},
   "outputs": [
    {
     "name": "stdout",
     "output_type": "stream",
     "text": [
      "Elements of the set are: \n",
      "50\n",
      "20\n",
      "40\n",
      "10\n",
      "30\n"
     ]
    }
   ],
   "source": [
    "my_set = {10, 20, 30, 40, 50}\n",
    "\n",
    "print(\"Elements of the set are: \")\n",
    "for element in my_set:\n",
    "    print(element)"
   ]
  },
  {
   "cell_type": "markdown",
   "id": "e211004d-cd42-4cfa-8ce9-251900ea675e",
   "metadata": {},
   "source": [
    "2. Add an element to a set"
   ]
  },
  {
   "cell_type": "code",
   "execution_count": 10,
   "id": "82044e3c-3b98-4f53-bf7d-51c06cfa2d22",
   "metadata": {},
   "outputs": [
    {
     "name": "stdout",
     "output_type": "stream",
     "text": [
      "Set after adding an element:  {40, 10, 20, 30}\n"
     ]
    }
   ],
   "source": [
    "my_set = {10, 20, 30}\n",
    "\n",
    "my_set.add(40)\n",
    "\n",
    "print(\"Set after adding an element: \", my_set)"
   ]
  },
  {
   "cell_type": "markdown",
   "id": "f001bd66-584e-4202-9048-daae1bd82a1a",
   "metadata": {},
   "source": [
    "3. Remove an element from a set"
   ]
  },
  {
   "cell_type": "code",
   "execution_count": 13,
   "id": "b9def381-0198-4cf4-ad69-9a3ac5b35a14",
   "metadata": {},
   "outputs": [
    {
     "name": "stdout",
     "output_type": "stream",
     "text": [
      "Set after removing 3:  {1, 2, 4, 5}\n"
     ]
    }
   ],
   "source": [
    "my_set = {1, 2, 3, 4, 5}\n",
    "\n",
    "my_set.remove(3)\n",
    "\n",
    "print(\"Set after removing 3: \", my_set)"
   ]
  },
  {
   "cell_type": "markdown",
   "id": "b2787f2f-4c80-40b6-8f33-0a57c55c2e4d",
   "metadata": {},
   "source": [
    "4. Clear all the element from a set"
   ]
  },
  {
   "cell_type": "code",
   "execution_count": 16,
   "id": "9faa924a-e91d-4988-b09b-4697250b615e",
   "metadata": {},
   "outputs": [
    {
     "name": "stdout",
     "output_type": "stream",
     "text": [
      "Set after clearing:  set()\n"
     ]
    }
   ],
   "source": [
    "my_set = {10, 20, 30, 40}\n",
    "\n",
    "my_set.clear()\n",
    "\n",
    "print(\"Set after clearing: \", my_set)"
   ]
  },
  {
   "cell_type": "markdown",
   "id": "8787ca08-1b35-4b25-805f-2317748a0fc2",
   "metadata": {},
   "source": [
    "5. Copy a set to another set"
   ]
  },
  {
   "cell_type": "code",
   "execution_count": 21,
   "id": "3d95a9c9-649a-4c98-ac83-2cd8b386a2c0",
   "metadata": {},
   "outputs": [
    {
     "name": "stdout",
     "output_type": "stream",
     "text": [
      "Original Set:  {1, 2, 3, 4}\n",
      "Copied Set:  {1, 2, 3, 4}\n"
     ]
    }
   ],
   "source": [
    "original_set ={1, 2, 3, 4}\n",
    "\n",
    "copied_set = original_set.copy()\n",
    "\n",
    "print(\"Original Set: \", original_set)\n",
    "print(\"Copied Set: \", copied_set)"
   ]
  },
  {
   "cell_type": "code",
   "execution_count": 23,
   "id": "99cd3f57-f2d7-4c19-bec3-9f96e73e0f42",
   "metadata": {},
   "outputs": [
    {
     "name": "stdout",
     "output_type": "stream",
     "text": [
      "30 exist in the set\n"
     ]
    }
   ],
   "source": [
    "my_set = {10, 20, 30, 40, 50}\n",
    "\n",
    "if 30 in my_set:\n",
    "    print(\"30 exist in the set\")\n",
    "else:\n",
    "    print(\"30 does not exist in the set\")"
   ]
  },
  {
   "cell_type": "markdown",
   "id": "1bdbfb17-8c3f-487a-b402-48e476a1414d",
   "metadata": {},
   "source": [
    "7. Find the length of a set"
   ]
  },
  {
   "cell_type": "code",
   "execution_count": 26,
   "id": "90936616-57ef-411f-b300-232c4d3f5e4d",
   "metadata": {},
   "outputs": [
    {
     "name": "stdout",
     "output_type": "stream",
     "text": [
      "Length of the set is:  4\n"
     ]
    }
   ],
   "source": [
    "my_set = {5, 10, 15, 20}\n",
    "\n",
    "length = len(my_set)\n",
    "\n",
    "print(\"Length of the set is: \", length)"
   ]
  },
  {
   "cell_type": "markdown",
   "id": "c5bdcc29-3c1b-493a-84ea-3dc8b7e1db84",
   "metadata": {},
   "source": [
    "8. Iterate through a set using a loop"
   ]
  },
  {
   "cell_type": "code",
   "execution_count": 29,
   "id": "7950c202-12d6-4cdf-9ff8-653d644597d6",
   "metadata": {},
   "outputs": [
    {
     "name": "stdout",
     "output_type": "stream",
     "text": [
      "Elements in the set: \n",
      "200\n",
      "100\n",
      "400\n",
      "300\n"
     ]
    }
   ],
   "source": [
    "my_set = {100, 200, 300, 400}\n",
    "\n",
    "print(\"Elements in the set: \")\n",
    "for item in my_set:\n",
    "    print(item)"
   ]
  },
  {
   "cell_type": "markdown",
   "id": "61090956-5028-42ad-9fbd-d4b8f0dde57b",
   "metadata": {},
   "source": [
    "## Set Operations "
   ]
  },
  {
   "cell_type": "markdown",
   "id": "596ef94f-e322-4237-aad0-d2d5f33ddd05",
   "metadata": {},
   "source": [
    "9. Find the union of two sets"
   ]
  },
  {
   "cell_type": "code",
   "execution_count": 35,
   "id": "87563a8e-bf28-4764-bb2c-7a765514eab2",
   "metadata": {},
   "outputs": [
    {
     "name": "stdout",
     "output_type": "stream",
     "text": [
      "Union of sets:  {1, 2, 3, 4, 5}\n"
     ]
    }
   ],
   "source": [
    "set1 = {1 , 2, 3}\n",
    "set2 = {3 , 4, 5}\n",
    "\n",
    "union_set = set1.union(set2)\n",
    "\n",
    "print(\"Union of sets: \", union_set)"
   ]
  },
  {
   "cell_type": "markdown",
   "id": "b014f7e1-9ebc-4c41-873a-4cc6f85be825",
   "metadata": {},
   "source": [
    "10. Find the intersection of two sets"
   ]
  },
  {
   "cell_type": "code",
   "execution_count": 40,
   "id": "613a8ce8-b44a-468a-b235-650023d12281",
   "metadata": {},
   "outputs": [
    {
     "name": "stdout",
     "output_type": "stream",
     "text": [
      "Intersection if sets:  {3, 4}\n"
     ]
    }
   ],
   "source": [
    "set1 = {1, 2, 3, 4}\n",
    "set2 = {3, 4, 5, 6}\n",
    "\n",
    "intersection_set = set1.intersection(set2)\n",
    "\n",
    "print(\"Intersection if sets: \", intersection_set)"
   ]
  },
  {
   "cell_type": "markdown",
   "id": "fa072c43-20a5-4409-9a97-b60aea2698de",
   "metadata": {},
   "source": [
    "11. Find the difference between two sets"
   ]
  },
  {
   "cell_type": "code",
   "execution_count": 45,
   "id": "5a8e5046-492a-483e-8e87-d9f4847476ee",
   "metadata": {},
   "outputs": [
    {
     "name": "stdout",
     "output_type": "stream",
     "text": [
      "Difference (set1 - set2): {1, 2, 3}\n"
     ]
    }
   ],
   "source": [
    "set1 = {1, 2, 3, 4, 5}\n",
    "set2 = {4, 5, 6, 7}\n",
    "\n",
    "difference_set = set1.difference(set2)\n",
    "\n",
    "print(\"Difference (set1 - set2):\", difference_set)"
   ]
  },
  {
   "cell_type": "markdown",
   "id": "50c188e1-3351-4119-be90-7794a6bb0b0f",
   "metadata": {},
   "source": [
    "12. Find the symmetric difference between two sets"
   ]
  },
  {
   "cell_type": "code",
   "execution_count": 50,
   "id": "ee5fce44-6ec3-48e6-b030-93db9327513b",
   "metadata": {},
   "outputs": [
    {
     "name": "stdout",
     "output_type": "stream",
     "text": [
      "Symmetric Difference:  {1, 2, 5, 6}\n"
     ]
    }
   ],
   "source": [
    "set1 = {1, 2, 3, 4}\n",
    "set2 = {3, 4, 5, 6}\n",
    "\n",
    "sym_diff = set1.symmetric_difference(set2)\n",
    "\n",
    "print(\"Symmetric Difference: \", sym_diff)"
   ]
  },
  {
   "cell_type": "markdown",
   "id": "d8bd9028-fc37-4f1b-b30f-7175c589ce29",
   "metadata": {},
   "source": [
    "13. Check if one set is the subset of another"
   ]
  },
  {
   "cell_type": "code",
   "execution_count": 53,
   "id": "d515039c-d2d7-451f-b829-1915a281ba06",
   "metadata": {},
   "outputs": [
    {
     "name": "stdout",
     "output_type": "stream",
     "text": [
      "set1 is a subset of set2\n"
     ]
    }
   ],
   "source": [
    "set1 = {1, 2, 3}\n",
    "set2 = {1, 2, 3, 4, 5}\n",
    "\n",
    "if set1.issubset(set2):\n",
    "    print(\"set1 is a subset of set2\")\n",
    "else:\n",
    "    print(\"set1 is NOT a subset of set2\")"
   ]
  },
  {
   "cell_type": "markdown",
   "id": "4f5685f8-0f1a-4120-9481-4109d8f37e8c",
   "metadata": {},
   "source": [
    "14. Check if one set is superset of another"
   ]
  },
  {
   "cell_type": "code",
   "execution_count": 58,
   "id": "c5782b95-102f-45d8-8b85-5604f63ec27f",
   "metadata": {},
   "outputs": [
    {
     "name": "stdout",
     "output_type": "stream",
     "text": [
      "set1 is a superset of set2\n"
     ]
    }
   ],
   "source": [
    "set1 = {1, 2, 3, 4, 5}\n",
    "set2 = {2, 3}\n",
    "\n",
    "if set1.issuperset(set2):\n",
    "    print(\"set1 is a superset of set2\")\n",
    "else:\n",
    "    print(\"set1 is NOT a superset of set2\")"
   ]
  },
  {
   "cell_type": "markdown",
   "id": "d2865a71-4adc-47b5-808e-e9666324a149",
   "metadata": {},
   "source": [
    "15. Check if two sets are disjoint"
   ]
  },
  {
   "cell_type": "code",
   "execution_count": 63,
   "id": "7997bb99-05f4-4dcf-a875-6c6105ffc304",
   "metadata": {},
   "outputs": [
    {
     "name": "stdout",
     "output_type": "stream",
     "text": [
      "The sets are disjoint\n"
     ]
    }
   ],
   "source": [
    "set1 = {1, 2, 3}\n",
    "set2 = {4, 5, 6}\n",
    "\n",
    "if set1.isdisjoint(set2):\n",
    "    print(\"The sets are disjoint\")\n",
    "else: \n",
    "    print(\"The set are NOT disjoint\")"
   ]
  },
  {
   "cell_type": "markdown",
   "id": "6217c2a8-7f10-4c92-b934-012eececa68e",
   "metadata": {},
   "source": [
    "## Set Applications"
   ]
  },
  {
   "cell_type": "markdown",
   "id": "6ae7ef92-ebaf-4457-97e1-4c4e5a43d2b0",
   "metadata": {},
   "source": [
    "16. Remove duplicates from a list using a set"
   ]
  },
  {
   "cell_type": "code",
   "execution_count": 69,
   "id": "5c000e16-9093-46e9-8513-e5839dbef82c",
   "metadata": {},
   "outputs": [
    {
     "name": "stdout",
     "output_type": "stream",
     "text": [
      "Original list:  [1, 2, 2, 3, 4, 4, 5]\n",
      "List after removing duplicates:  [1, 2, 3, 4, 5]\n"
     ]
    }
   ],
   "source": [
    "my_list = [1, 2, 2, 3, 4, 4, 5]\n",
    "\n",
    "unique_set = set(my_list)\n",
    "\n",
    "unique_list = list(unique_set)\n",
    "\n",
    "print(\"Original list: \", my_list)\n",
    "print(\"List after removing duplicates: \", unique_list)"
   ]
  },
  {
   "cell_type": "markdown",
   "id": "7a8fc0af-f663-4f38-8187-45a917957c8d",
   "metadata": {},
   "source": [
    "17.Convert a list to a set and back to a list"
   ]
  },
  {
   "cell_type": "code",
   "execution_count": 72,
   "id": "a7c588b1-9919-48ed-af8a-ef38ac6ba2e7",
   "metadata": {},
   "outputs": [
    {
     "name": "stdout",
     "output_type": "stream",
     "text": [
      "Original list:  [1, 2, 2, 3, 4, 4, 5]\n",
      "Set (no duplicates):  {1, 2, 3, 4, 5}\n",
      "List after conversion:  [1, 2, 3, 4, 5]\n"
     ]
    }
   ],
   "source": [
    "my_list = [1, 2, 2, 3, 4, 4, 5]\n",
    "\n",
    "my_set = set(my_list)\n",
    "\n",
    "new_list = list(my_set)\n",
    "\n",
    "print(\"Original list: \", my_list)\n",
    "print(\"Set (no duplicates): \", my_set)\n",
    "print(\"List after conversion: \", new_list)"
   ]
  },
  {
   "cell_type": "markdown",
   "id": "8156caf5-36d6-4b3e-9aa1-18ebcda62a04",
   "metadata": {},
   "source": [
    "18. Find common elements in two lists using sets"
   ]
  },
  {
   "cell_type": "code",
   "execution_count": 75,
   "id": "2cf75f25-64bb-4323-9660-166e41ed171a",
   "metadata": {},
   "outputs": [
    {
     "name": "stdout",
     "output_type": "stream",
     "text": [
      "Common elements:  [4, 5]\n"
     ]
    }
   ],
   "source": [
    "list1 = [1, 2, 3, 4, 5]\n",
    "list2 = [4, 5, 6, 7, 8]\n",
    "\n",
    "set1 = set(list1)\n",
    "set2 = set(list2)\n",
    "\n",
    "common_elements = set1.intersection(set2)\n",
    "\n",
    "common_list = list(common_elements)\n",
    "\n",
    "print(\"Common elements: \", common_list)"
   ]
  },
  {
   "cell_type": "markdown",
   "id": "edc5cb38-f4c9-4a46-8a26-4ae734975450",
   "metadata": {},
   "source": [
    "19. Get element in one list but not in another using sets"
   ]
  },
  {
   "cell_type": "code",
   "execution_count": 78,
   "id": "e9f84315-e6aa-4dbf-99af-594c4843f092",
   "metadata": {},
   "outputs": [
    {
     "name": "stdout",
     "output_type": "stream",
     "text": [
      "Elements in list1 but not in list2:  [10, 50, 20]\n"
     ]
    }
   ],
   "source": [
    "list1 = [10, 20, 30, 40, 50]\n",
    "list2 = [30, 40, 60]\n",
    "\n",
    "set1 = set(list1)\n",
    "set2 = set(list2)\n",
    "\n",
    "difference = set1 - set2\n",
    "\n",
    "result = list(difference)\n",
    "\n",
    "print(\"Elements in list1 but not in list2: \", result)"
   ]
  },
  {
   "cell_type": "markdown",
   "id": "358d14d8-b813-4113-a5d1-ee7d678fb39c",
   "metadata": {},
   "source": [
    "20 .Use set comprehension to generate a set (e.g., squares or primes)"
   ]
  },
  {
   "cell_type": "code",
   "execution_count": 82,
   "id": "8ccf7fb7-e0fd-43c1-846e-97237c98b3bc",
   "metadata": {},
   "outputs": [
    {
     "name": "stdout",
     "output_type": "stream",
     "text": [
      "Squares:  {64, 1, 4, 36, 100, 9, 16, 49, 81, 25}\n"
     ]
    }
   ],
   "source": [
    "squares = {x**2 for x in range(1, 11)}\n",
    "\n",
    "print(\"Squares: \", squares)"
   ]
  },
  {
   "cell_type": "markdown",
   "id": "3cee597d-35b4-4eac-ad2d-5a2cc34eceb2",
   "metadata": {},
   "source": [
    "21. Create and print a frozenset"
   ]
  },
  {
   "cell_type": "code",
   "execution_count": null,
   "id": "e905f9d6-1275-4e7d-b88c-4305fa806079",
   "metadata": {},
   "outputs": [],
   "source": [
    "normal_set = {1, 2, 3, 4, 5}\n",
    "\n",
    "frozen = frozenset"
   ]
  }
 ],
 "metadata": {
  "kernelspec": {
   "display_name": "Python [conda env:base] *",
   "language": "python",
   "name": "conda-base-py"
  },
  "language_info": {
   "codemirror_mode": {
    "name": "ipython",
    "version": 3
   },
   "file_extension": ".py",
   "mimetype": "text/x-python",
   "name": "python",
   "nbconvert_exporter": "python",
   "pygments_lexer": "ipython3",
   "version": "3.12.7"
  }
 },
 "nbformat": 4,
 "nbformat_minor": 5
}
