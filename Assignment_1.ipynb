{
 "cells": [
  {
   "cell_type": "markdown",
   "id": "eab20511",
   "metadata": {},
   "source": [
    "# ASSIGNMENT: 01"
   ]
  },
  {
   "cell_type": "markdown",
   "id": "b61ae4d8",
   "metadata": {},
   "source": [
    "1] Check the given number is odd or even."
   ]
  },
  {
   "cell_type": "code",
   "execution_count": 4,
   "id": "db0710a2",
   "metadata": {},
   "outputs": [
    {
     "name": "stdout",
     "output_type": "stream",
     "text": [
      "The number 3 is odd.\n"
     ]
    }
   ],
   "source": [
    "def check_odd_even(number):\n",
    "    if number%2==0:\n",
    "        return \"even\"\n",
    "    else:\n",
    "        return \"odd\"\n",
    "num=int(input(\"Enter the number:\"))\n",
    "print(f\"The number {num} is {check_odd_even(num)}.\")"
   ]
  },
  {
   "cell_type": "markdown",
   "id": "68c3bdcf",
   "metadata": {},
   "source": [
    "2] Count the total number of digits in a number."
   ]
  },
  {
   "cell_type": "code",
   "execution_count": 5,
   "id": "0fc8a9a0",
   "metadata": {},
   "outputs": [
    {
     "name": "stdout",
     "output_type": "stream",
     "text": [
      "The number 123456 is having 6 digits in it.\n"
     ]
    }
   ],
   "source": [
    "def count_digit(number):\n",
    "    return len(str(abs(number)))\n",
    "num=int(input(\"Enter the number: \"))\n",
    "print(f\"The number {num} is having {count_digit(num)} digits in it.\")"
   ]
  },
  {
   "cell_type": "markdown",
   "id": "048a2039",
   "metadata": {},
   "source": [
    "3] Write a Python program to print the reverse number pattern using a for loop 5 4 3 2 1 4 3 2 1 3 2 1 2 1 1"
   ]
  },
  {
   "cell_type": "code",
   "execution_count": 6,
   "id": "3af36a68",
   "metadata": {},
   "outputs": [
    {
     "name": "stdout",
     "output_type": "stream",
     "text": [
      "6 5 4 3 2 1 \n",
      "5 4 3 2 1 \n",
      "4 3 2 1 \n",
      "3 2 1 \n",
      "2 1 \n",
      "1 \n"
     ]
    }
   ],
   "source": [
    "def reverse_number_pattern(n):\n",
    "    for i in range (n, 0, -1):\n",
    "        for j in range (i, 0, -1):\n",
    "            print(j, end=\" \")\n",
    "        print()\n",
    "num=int(input(\"enter the number:\"))\n",
    "reverse_number_pattern(num)"
   ]
  },
  {
   "cell_type": "markdown",
   "id": "3ce82596",
   "metadata": {},
   "source": [
    "4]Print all prime numbers within a range."
   ]
  },
  {
   "cell_type": "code",
   "execution_count": 7,
   "id": "d4945866",
   "metadata": {},
   "outputs": [
    {
     "name": "stdout",
     "output_type": "stream",
     "text": [
      "Prime numbers between 1 and7\n",
      "5 7 \n"
     ]
    }
   ],
   "source": [
    "def print_primes(start, end):\n",
    "    for num in range (start, end+1):\n",
    "        if num>1:\n",
    "            for i in range (2, int(num**0.5)+1):\n",
    "                if num%i==0:\n",
    "                    break\n",
    "                else:\n",
    "                    print(num, end=\" \")\n",
    "    print()\n",
    "start_range = int(input(\"enter the start of the range\"))\n",
    "end_range = int(input(\"enter the end of the range\"))\n",
    "print(f\"Prime numbers between {start_range} and{end_range}\")\n",
    "print_primes(start_range, end_range)"
   ]
  },
  {
   "cell_type": "markdown",
   "id": "28be01f7",
   "metadata": {},
   "source": [
    "5]Find the factorial of a given number."
   ]
  },
  {
   "cell_type": "code",
   "execution_count": 8,
   "id": "50455462",
   "metadata": {},
   "outputs": [
    {
     "name": "stdout",
     "output_type": "stream",
     "text": [
      "The factorial of 0 is 1.\n"
     ]
    }
   ],
   "source": [
    "def factorial(n):\n",
    "    if n==0 or n==1:\n",
    "        return 1\n",
    "    else:\n",
    "        return n * factorial(n-1)\n",
    "num= int(input(\"enter the number:\"))\n",
    "print(f\"The factorial of {num} is {factorial(num)}.\")"
   ]
  },
  {
   "cell_type": "markdown",
   "id": "1bf236d2",
   "metadata": {},
   "source": [
    "6]Program to check if number is palindrome."
   ]
  },
  {
   "cell_type": "code",
   "execution_count": 9,
   "id": "8a820450",
   "metadata": {},
   "outputs": [
    {
     "name": "stdout",
     "output_type": "stream",
     "text": [
      "the number 121 is palindrome\n"
     ]
    }
   ],
   "source": [
    "def is_palindrome(number):\n",
    "    return str(number) == str(number)[::-1]\n",
    "num= int(input(\"enter the number:\"))\n",
    "if is_palindrome(num):\n",
    "    print(f\"the number {num} is palindrome\")\n",
    "else:\n",
    "    print(f\"the number {num} is not palindrome\")"
   ]
  },
  {
   "cell_type": "markdown",
   "id": "5f350b87",
   "metadata": {},
   "source": [
    "7]Program to Check Armstrong Number."
   ]
  },
  {
   "cell_type": "code",
   "execution_count": 10,
   "id": "ac9298cd",
   "metadata": {},
   "outputs": [
    {
     "name": "stdout",
     "output_type": "stream",
     "text": [
      "The number 153 is an Armstrong number.\n"
     ]
    }
   ],
   "source": [
    "def is_armstrong(number):\n",
    "    num_str = str(number)\n",
    "    power = len(num_str)\n",
    "    total = sum(int(digit) ** power for digit in num_str)\n",
    "    return total == number\n",
    "num = int(input(\"Enter a number: \"))\n",
    "if is_armstrong(num):\n",
    "    print(f\"The number {num} is an Armstrong number.\")\n",
    "else:\n",
    "    print(f\"The number {num} is not an Armstrong number.\")"
   ]
  },
  {
   "cell_type": "markdown",
   "id": "6bfe5c8a",
   "metadata": {},
   "source": [
    "8]Find Maximum of three numbers."
   ]
  },
  {
   "cell_type": "code",
   "execution_count": null,
   "id": "cfd16e3f",
   "metadata": {},
   "outputs": [
    {
     "name": "stdout",
     "output_type": "stream",
     "text": [
      "The maximum of entered number id 6.0\n"
     ]
    }
   ],
   "source": [
    "def find_maximum(a, b, c):\n",
    "    if a >= b and a >=c:\n",
    "        return a\n",
    "    elif b >= c:\n",
    "        return b\n",
    "    else:\n",
    "        return c\n",
    "\n",
    "\n",
    "num1 = float(input(\"Enter the value of first number: \"))\n",
    "num2 = float(input(\"Enter the value of second number: \"))\n",
    "num3 = float(input(\"Enter the value of third number: \"))\n",
    "\n",
    "maximum = find_maximum(num1, num2, num3)\n",
    "print(f\"The maximum of entered number id {maximum}\")"
   ]
  },
  {
   "cell_type": "markdown",
   "id": "dfd7e498",
   "metadata": {},
   "source": [
    "9]Find the Sum of digits."
   ]
  },
  {
   "cell_type": "code",
   "execution_count": 12,
   "id": "c46eb3b5",
   "metadata": {},
   "outputs": [
    {
     "name": "stdout",
     "output_type": "stream",
     "text": [
      "The sum of digits in 12312 is 9.\n"
     ]
    }
   ],
   "source": [
    "def sum_of_digits(number):\n",
    "    return sum(int(digit) for digit in str(abs(number)))\n",
    "num = int(input(\"Enter a number: \"))\n",
    "print(f\"The sum of digits in {num} is {sum_of_digits(num)}.\")"
   ]
  },
  {
   "cell_type": "markdown",
   "id": "ca8e2697",
   "metadata": {},
   "source": [
    "10]Python Program to Print the Natural Numbers Summation Pattern Given a natural number n, the task is\n",
    "to write a Python program to first find the sum of first n natural numbers and then print each step as a\n",
    "pattern. Input: 5 Output: 1 = 1 1 + 2 = 3 1 + 2 + 3 = 6 1 + 2 + 3 + 4 = 10 1 + 2 + 3 + 4 + 5 = 15"
   ]
  },
  {
   "cell_type": "code",
   "execution_count": 13,
   "id": "78f3b565",
   "metadata": {},
   "outputs": [
    {
     "name": "stdout",
     "output_type": "stream",
     "text": [
      "1 = 1\n",
      "1 + 2 = 3\n",
      "1 + 2 + 3 = 6\n",
      "1 + 2 + 3 + 4 = 10\n",
      "1 + 2 + 3 + 4 + 5 = 15\n"
     ]
    }
   ],
   "source": [
    "def natural_sum_pattern(num):\n",
    "    total = 0\n",
    "    for i in range(1,num+1):\n",
    "        total+=i\n",
    "        pattern = ' + '.join(str(j)\n",
    "    for j in range(1, i + 1))\n",
    "        print(f\"{pattern} = {total}\")\n",
    "\n",
    "num = int(input(\"Enter a number: \"))\n",
    "\n",
    "if num <= 0:\n",
    "    print(\"Please enter a positive value\")\n",
    "else:\n",
    "    natural_sum_pattern(num)"
   ]
  }
 ],
 "metadata": {
  "kernelspec": {
   "display_name": "Python 3",
   "language": "python",
   "name": "python3"
  },
  "language_info": {
   "codemirror_mode": {
    "name": "ipython",
    "version": 3
   },
   "file_extension": ".py",
   "mimetype": "text/x-python",
   "name": "python",
   "nbconvert_exporter": "python",
   "pygments_lexer": "ipython3",
   "version": "3.13.2"
  }
 },
 "nbformat": 4,
 "nbformat_minor": 5
}
