{
 "cells": [
  {
   "cell_type": "markdown",
   "id": "3e07ec10-6e46-4eff-b715-fd90853dee97",
   "metadata": {},
   "source": [
    "# Python Arithmetic Operators"
   ]
  },
  {
   "cell_type": "markdown",
   "id": "77000d94-2f60-4287-bd32-b4b717e4f37b",
   "metadata": {},
   "source": [
    "Arithmetic operators are used with numeric values to perform common mathematical operations:"
   ]
  },
  {
   "cell_type": "markdown",
   "id": "7a822788-85fc-48d8-9048-1d20acec9915",
   "metadata": {},
   "source": [
    "Operator Name Example Try it"
   ]
  },
  {
   "cell_type": "markdown",
   "id": "8c650aba-047e-4826-9a0c-5cc356d9276a",
   "metadata": {},
   "source": [
    "- Addition x + y"
   ]
  },
  {
   "cell_type": "markdown",
   "id": "990886d3-41d8-4a3e-aeb0-045bc06dc22c",
   "metadata": {},
   "source": [
    "- Substration x - y"
   ]
  },
  {
   "cell_type": "markdown",
   "id": "2696400c-4c78-416b-b724-11b49929bd71",
   "metadata": {},
   "source": [
    "- Multiplication x y"
   ]
  },
  {
   "cell_type": "markdown",
   "id": "4f833677-c23c-4c99-a71a-905d64802ece",
   "metadata": {},
   "source": [
    "/ Division x/y"
   ]
  },
  {
   "cell_type": "markdown",
   "id": "964dbcbe-02fb-4f3f-9db5-b8ccf7c52a62",
   "metadata": {},
   "source": [
    "% Modulus x % y"
   ]
  },
  {
   "cell_type": "markdown",
   "id": "b1397856-5ed4-499c-9eb6-e659aeabb091",
   "metadata": {},
   "source": [
    "* Exponentiation x y"
   ]
  },
  {
   "cell_type": "markdown",
   "id": "8b5cabeb-b2ea-4bb9-b008-00f1cfd4087b",
   "metadata": {},
   "source": [
    "// Floor division x // y"
   ]
  },
  {
   "cell_type": "code",
   "execution_count": 13,
   "id": "fd6cee92-4e4f-4dcd-9442-8390a594ebaf",
   "metadata": {},
   "outputs": [
    {
     "name": "stdout",
     "output_type": "stream",
     "text": [
      "8\n"
     ]
    }
   ],
   "source": [
    "x = 17\n",
    "y = 2\n",
    "\n",
    "print(x // y)\n",
    "\n",
    "#the floor division // rounds the result down to the nearest whole number"
   ]
  },
  {
   "cell_type": "markdown",
   "id": "c6488170-8141-48f5-8498-2692a028ba5b",
   "metadata": {},
   "source": [
    "## Python Assignment Operators"
   ]
  },
  {
   "cell_type": "markdown",
   "id": "5f32a9cc-930b-4492-8645-cdc1871ac6f7",
   "metadata": {},
   "source": [
    "Python Assignment Operators"
   ]
  },
  {
   "cell_type": "raw",
   "id": "fcb1ddae-1303-40df-bad2-cd54ea681be2",
   "metadata": {},
   "source": [
    "#Operator   Example    Same As\n",
    "=           x = 5      x = 5\n",
    "+=          x +=3      x = x + 3\n",
    "-=          x -= 3     x = x - 3\n",
    "*=          x *= 3     x = x * 3\n",
    "/=          x /= 3     x = x / 3\n",
    "%=          x %= 3     x = x % 3\n",
    "//=         x //= 3    x = x // 3\n",
    "**=         x**= 3     x = x ** 3\n",
    "&=          x &= 3     x = x & 3\n",
    "|=          x |= 3     x = x | 3\n",
    "^=          x ^= 3     x = x ^ 3 \n",
    ">>=         x >>= 3    x = x >> 3\n",
    "<<=         x <<= 3    x = x << 3\n",
    ":=    print(x %= 3)    x = x % 3\n",
    "                       print(x)"
   ]
  },
  {
   "cell_type": "markdown",
   "id": "9284bf1f-9c5e-4a47-8d1b-8c7f3b735762",
   "metadata": {},
   "source": [
    "## Python Comparison Opertors"
   ]
  },
  {
   "cell_type": "markdown",
   "id": "f0739292-b100-4372-a13c-5a46f43c2835",
   "metadata": {},
   "source": [
    "Comparison operators are used to compare two values:"
   ]
  },
  {
   "cell_type": "raw",
   "id": "af5430b2-a1c0-48c8-a9ef-8d282e06551a",
   "metadata": {},
   "source": [
    "#Operator     Name              Example\n",
    "==            Equal             x == y\n",
    "!=            Not Equal         x != y\n",
    ">=            Greater than      x > y\n",
    "<=            Less than         x < y\n",
    ">=    Greater than or equal to  x >= y\n",
    "<=    Less than or equal to     x <= y"
   ]
  },
  {
   "cell_type": "markdown",
   "id": "18402754-4249-447f-b19a-a288c1cfb8f2",
   "metadata": {},
   "source": [
    "## Python Logical Operators"
   ]
  },
  {
   "cell_type": "markdown",
   "id": "d6a44532-e27f-4fa2-90b7-e3649aa90b30",
   "metadata": {},
   "source": [
    "Logical operators are used to combine conditional statements:"
   ]
  },
  {
   "cell_type": "raw",
   "id": "457ba8c5-d8a9-4c28-b80a-a5a3597adbc3",
   "metadata": {},
   "source": [
    "Operator                      Description                                       Example\n",
    "and             Returns True if both statements are true                        x < 5 and x < 10\n",
    "or              Returns True if one of the statements is true                   x < 5 or x < 4\n",
    "not             Reverse the result, returns False if the result is true         not(x < 5 and x < 10)"
   ]
  },
  {
   "cell_type": "markdown",
   "id": "44185a8f-d4b6-442b-bbfa-1e24f0fbeed6",
   "metadata": {},
   "source": [
    "## Python Identity Operators"
   ]
  },
  {
   "cell_type": "markdown",
   "id": "591bbf34-6cea-4b2f-99aa-57424a136002",
   "metadata": {},
   "source": [
    "Identity operators are used to compare the objects, not if they are equal, but if they are actually the same object, with the same memory location:"
   ]
  },
  {
   "cell_type": "raw",
   "id": "733351bd-f51b-40ba-baf2-dffc0d25e81f",
   "metadata": {},
   "source": [
    "Operator                  Description                                       Example\n",
    "is             Returns True if both variables are the same object           x is y\n",
    "is not         Returns True if both variables are not the same object       x is not y"
   ]
  },
  {
   "cell_type": "code",
   "execution_count": 12,
   "id": "7981b9d6-67de-4191-b724-a3072e8b46a0",
   "metadata": {},
   "outputs": [
    {
     "name": "stdout",
     "output_type": "stream",
     "text": [
      "True\n",
      "False\n",
      "True\n"
     ]
    }
   ],
   "source": [
    "x = [\"apple\", \"banana\"]\n",
    "y = [\"apple\", \"banana\"]\n",
    "z = x\n",
    "\n",
    "print(x is z)\n",
    "\n",
    "# returns True beacause z is the same object as x\n",
    "\n",
    "print(x is y)\n",
    "\n",
    "# returns False because x is not the same object as y, even if they have the same content \n",
    "\n",
    "print(x == y)\n",
    "\n",
    "# to demonstrate the difference between \"is\" and \"==\": this comparison returns True because x is equal to y"
   ]
  },
  {
   "cell_type": "code",
   "execution_count": 14,
   "id": "69fc5813-cb7c-4850-9a7d-1e3e617c6408",
   "metadata": {},
   "outputs": [
    {
     "name": "stdout",
     "output_type": "stream",
     "text": [
      "False\n",
      "True\n",
      "False\n"
     ]
    }
   ],
   "source": [
    "x = [\"apple\", \"banana\"]\n",
    "y = [\"apple\", \"banana\"]\n",
    "z = x\n",
    "\n",
    "print(x is not z)\n",
    "\n",
    "# returns False beacause z is the same object as x\n",
    "\n",
    "print(x is not y)\n",
    "\n",
    "# returns True because x is not the same object as y, even if they have the same content \n",
    "\n",
    "print(x != y)\n",
    "\n",
    "# to demonstrate the difference between \"is not\" and \"!=\": this comparison returns True because x is equal to y"
   ]
  },
  {
   "cell_type": "markdown",
   "id": "10ca9f15-4aed-4058-98bc-0994dae1dc6f",
   "metadata": {},
   "source": [
    "## Python Membership Operators"
   ]
  },
  {
   "cell_type": "markdown",
   "id": "516a4718-2c31-4b48-b76c-824ee40febd0",
   "metadata": {},
   "source": [
    "Membership operators are used to test id a sequence is presented in an object:"
   ]
  },
  {
   "cell_type": "raw",
   "id": "acaf681f-748b-420c-8ea0-e3cc6eacfe63",
   "metadata": {},
   "source": [
    "Operator                            Description                                                   Example\n",
    "in'            Returns True if a sequence with the specified value is p                           x in y\n",
    "not in         Returns True if a sequence with the specifid value is presented in the object      x not in y"
   ]
  },
  {
   "cell_type": "code",
   "execution_count": 20,
   "id": "29ce6b02-f322-4d8e-9c3d-6501a89f5c83",
   "metadata": {},
   "outputs": [
    {
     "name": "stdout",
     "output_type": "stream",
     "text": [
      "True\n"
     ]
    }
   ],
   "source": [
    "x = [\"apple\", \"banana\"]\n",
    "\n",
    "print(\"banana\" in x)\n",
    "\n",
    "# returns True because a sequence with the value \"banana\", is in the list"
   ]
  },
  {
   "cell_type": "code",
   "execution_count": 22,
   "id": "76df30c5-5940-467b-a170-855f665cb6b0",
   "metadata": {},
   "outputs": [
    {
     "name": "stdout",
     "output_type": "stream",
     "text": [
      "True\n"
     ]
    }
   ],
   "source": [
    "x = [\"apple\", \"banana\"]\n",
    "\n",
    "print(\"pineapple\" not in x)\n",
    "\n",
    "# returns True because a sequence with the value \"pineapple\" is not in the list"
   ]
  },
  {
   "cell_type": "markdown",
   "id": "0e5190fd-11ab-4aa8-839c-bd3d7974db67",
   "metadata": {},
   "source": [
    "## Python Bitwise Operators"
   ]
  },
  {
   "cell_type": "markdown",
   "id": "e902748c-47f4-47a8-9a7a-6893ceca10d1",
   "metadata": {},
   "source": [
    "Bitwise operators are used to compare (binary) numbers:"
   ]
  },
  {
   "cell_type": "raw",
   "id": "0a8f520b-c9e5-4ec8-b3d0-1f0250bba058",
   "metadata": {},
   "source": [
    "Operator             Name                      Description\n",
    "&                    AND                each bit to 1 if both bits are 1\n",
    "|                    OR                 Sets each bit to 1 if one of two bits is 1\n",
    "^                    XOR                Sets each bit to 1 if only one of two bits is 1\n",
    "-                    NOT                Invert all the bits\n",
    "<<           Zero fill left shift       Shift left by pushing zeros in from the right\n",
    "                                        and let the leftmost bits fall off\n",
    ">>           Signed right shift         Shift right by pushing copies of the leftmost bit\n",
    "                                        in from the left, and let the rightmost bits fall off\n"
   ]
  },
  {
   "cell_type": "code",
   "execution_count": 26,
   "id": "807e9c35-73e9-4f89-b77c-d4876e94df2c",
   "metadata": {},
   "outputs": [
    {
     "name": "stdout",
     "output_type": "stream",
     "text": [
      "5\n"
     ]
    },
    {
     "data": {
      "text/plain": [
       "'\\nThe ^ operator compares each bit and set it to 1 if only one is 1, otherwise (if both are 1 or both are 0) it is sets to 0:\\n\\n6 = 0000000000000110\\n3 = 0000000000000011\\n--------------------\\n5 = 0000000000000101\\n====================\\n\\nDecimal numbers and their binary values:\\n0 = 0000000000000000\\n1 = 0000000000000001\\n2 = 0000000000000010\\n3 = 0000000000000011\\n4 = 0000000000000100\\n5 = 0000000000000101\\n6 = 0000000000000110\\n7 = 0000000000000111\\n'"
      ]
     },
     "execution_count": 26,
     "metadata": {},
     "output_type": "execute_result"
    }
   ],
   "source": [
    "print(6 ^ 3)\n",
    "\n",
    "\"\"\"\n",
    "The ^ operator compares each bit and set it to 1 if only one is 1, otherwise (if both are 1 or both are 0) it is sets to 0:\n",
    "\n",
    "6 = 0000000000000110\n",
    "3 = 0000000000000011\n",
    "--------------------\n",
    "5 = 0000000000000101\n",
    "====================\n",
    "\n",
    "Decimal numbers and their binary values:\n",
    "0 = 0000000000000000\n",
    "1 = 0000000000000001\n",
    "2 = 0000000000000010\n",
    "3 = 0000000000000011\n",
    "4 = 0000000000000100\n",
    "5 = 0000000000000101\n",
    "6 = 0000000000000110\n",
    "7 = 0000000000000111\n",
    "\"\"\""
   ]
  },
  {
   "cell_type": "code",
   "execution_count": 28,
   "id": "e6852bfe-c150-4675-ab27-f8f38e406f44",
   "metadata": {},
   "outputs": [
    {
     "name": "stdout",
     "output_type": "stream",
     "text": [
      "2\n"
     ]
    },
    {
     "data": {
      "text/plain": [
       "\"\\nThe >> operator moves each bit the specified number of times to the right. Empty holes at the left are filled with 0's.\\n\\nIf you move each bit 2 times to the right, 8 becomes 2: \\n8 = 0000000000001000\\nbecomes\\n2 = 0000000000000010\\n\\nDecimal numbers and their binary values:\\n0 = 0000000000000000\\n1 = 0000000000000001\\n2 = 0000000000000010\\n3 = 0000000000000011\\n4 = 0000000000000100\\n5 = 0000000000000101\\n6 = 0000000000000110\\n7 = 0000000000000111\\n8 = 0000000000001000\\n9 = 0000000000001001\\n10 = 0000000000001010\\n11 = 0000000000001011\\n12 = 0000000000001100\\n\""
      ]
     },
     "execution_count": 28,
     "metadata": {},
     "output_type": "execute_result"
    }
   ],
   "source": [
    "print(8 >> 2)\n",
    "\n",
    "\n",
    "\"\"\"\n",
    "The >> operator moves each bit the specified number of times to the right. Empty holes at the left are filled with 0's.\n",
    "\n",
    "If you move each bit 2 times to the right, 8 becomes 2: \n",
    "8 = 0000000000001000\n",
    "becomes\n",
    "2 = 0000000000000010\n",
    "\n",
    "Decimal numbers and their binary values:\n",
    "0 = 0000000000000000\n",
    "1 = 0000000000000001\n",
    "2 = 0000000000000010\n",
    "3 = 0000000000000011\n",
    "4 = 0000000000000100\n",
    "5 = 0000000000000101\n",
    "6 = 0000000000000110\n",
    "7 = 0000000000000111\n",
    "8 = 0000000000001000\n",
    "9 = 0000000000001001\n",
    "10 = 0000000000001010\n",
    "11 = 0000000000001011\n",
    "12 = 0000000000001100\n",
    "\"\"\""
   ]
  },
  {
   "cell_type": "markdown",
   "id": "2b8d7287-5b01-43c2-bd7f-94605136cad6",
   "metadata": {},
   "source": [
    "## The precedence order is described in the table below, starting with the highest precedence at the top"
   ]
  },
  {
   "cell_type": "raw",
   "id": "34b234a8-574c-4684-a315-4f2a8199d5a1",
   "metadata": {},
   "source": [
    "Operator                                                   Description\n",
    "()                                                         Parentheses\n",
    "**                                                         Exponentiation\n",
    "+x  -x  -x                                           Unary plus, unary minus, and bitwise NOT\n",
    "*  /  //  %                                          Multiplication, division, floor division, and modulus\n",
    "+  -                                             Addition and subtraction\n",
    "<<  >>                                           Bitwise left and right shifts\n",
    "&                                                    Bitwise AND\n",
    "^                                                    Bitwise XOR\n",
    "|                                                    Bitwise OR\n",
    "==  !=  >  >=  <  <=  is  is not  in  not in     Comparisons, identity, and membership operators\n",
    "not                                                  Logical NOT\n",
    "and                                                  AND\n",
    "or                                                   OR"
   ]
  },
  {
   "cell_type": "markdown",
   "id": "410087f0-5aba-4399-9069-0e6452e41db4",
   "metadata": {},
   "source": [
    "- If two operators have the same precedence, the expression is evaluted from left to right"
   ]
  },
  {
   "cell_type": "code",
   "execution_count": 3,
   "id": "c2846531-caa3-4a39-bb60-ecf9b67c1f44",
   "metadata": {},
   "outputs": [
    {
     "name": "stdout",
     "output_type": "stream",
     "text": [
      "5\n"
     ]
    }
   ],
   "source": [
    "#Addition + and subtraction - has the same precedence, and therefore we evaluate the expression from left to right:\n",
    "print(5 + 4 - 7 + 3)"
   ]
  },
  {
   "cell_type": "code",
   "execution_count": null,
   "id": "491fff5d-f2f6-42e8-845c-392093c45c2d",
   "metadata": {},
   "outputs": [],
   "source": []
  }
 ],
 "metadata": {
  "kernelspec": {
   "display_name": "Python [conda env:base] *",
   "language": "python",
   "name": "conda-base-py"
  },
  "language_info": {
   "codemirror_mode": {
    "name": "ipython",
    "version": 3
   },
   "file_extension": ".py",
   "mimetype": "text/x-python",
   "name": "python",
   "nbconvert_exporter": "python",
   "pygments_lexer": "ipython3",
   "version": "3.12.7"
  }
 },
 "nbformat": 4,
 "nbformat_minor": 5
}
