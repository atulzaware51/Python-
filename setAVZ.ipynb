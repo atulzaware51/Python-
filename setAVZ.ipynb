{
 "cells": [
  {
   "cell_type": "code",
   "execution_count": 8,
   "id": "832aea61-d33e-4261-b7c9-188db58404ef",
   "metadata": {},
   "outputs": [
    {
     "name": "stdout",
     "output_type": "stream",
     "text": [
      "{'APPLE', 'CHERRY', 'BANANA'}\n"
     ]
    }
   ],
   "source": [
    "thisset={ \"APPLE\",\"BANANA\",\"CHERRY\"}\n",
    "print(thisset)"
   ]
  },
  {
   "cell_type": "code",
   "execution_count": 10,
   "id": "131804c2-69ea-4d51-b7df-3e058b7cd089",
   "metadata": {},
   "outputs": [
    {
     "name": "stdout",
     "output_type": "stream",
     "text": [
      "{'APPLE', 'CHERRY', 'BANANA'}\n"
     ]
    }
   ],
   "source": [
    "thisset={ \"APPLE\",\"BANANA\",\"CHERRY\",\"APPLE\"}\n",
    "print(thisset)"
   ]
  },
  {
   "cell_type": "code",
   "execution_count": 14,
   "id": "8af123a3-b41c-4d56-9898-9bc1c39089ef",
   "metadata": {},
   "outputs": [
    {
     "name": "stdout",
     "output_type": "stream",
     "text": [
      "{True, 2, 3, 'BANANA', 'CHERRY', 'APPLE'}\n"
     ]
    }
   ],
   "source": [
    "thisset={ \"APPLE\",\"BANANA\",\"CHERRY\",True,2,3}\n",
    "print(thisset)"
   ]
  },
  {
   "cell_type": "code",
   "execution_count": 16,
   "id": "45c6fdab-a42d-4749-bdfc-dc004e0854f5",
   "metadata": {},
   "outputs": [
    {
     "name": "stdout",
     "output_type": "stream",
     "text": [
      "{True, 3, 4564, 'male', 'abc', 45}\n"
     ]
    }
   ],
   "source": [
    "set1={\"apple\",\"banana\",\"cherry\"}\n",
    "set2={1,23,4,5,7,5}\n",
    "set3={True,False,True,False}\n",
    "set4={\"abc\",3,4564,True,45,\"male\"}\n",
    "print(set4)"
   ]
  },
  {
   "cell_type": "code",
   "execution_count": 18,
   "id": "13330a3f-db26-40a7-ad54-13a444526b1e",
   "metadata": {},
   "outputs": [
    {
     "name": "stdout",
     "output_type": "stream",
     "text": [
      "<class 'set'>\n"
     ]
    }
   ],
   "source": [
    "print(type(set4))"
   ]
  },
  {
   "cell_type": "code",
   "execution_count": 20,
   "id": "1747126d-621a-465b-83d3-629097164057",
   "metadata": {},
   "outputs": [
    {
     "name": "stdout",
     "output_type": "stream",
     "text": [
      "{'apple', 'banana', 'cherry'}\n"
     ]
    }
   ],
   "source": [
    "thisset=set((\"apple\",\"banana\",\"cherry\"))\n",
    "print(thisset)"
   ]
  },
  {
   "cell_type": "code",
   "execution_count": 24,
   "id": "06862909-fd5d-4cf6-84a5-fad7ed054d50",
   "metadata": {},
   "outputs": [
    {
     "name": "stdout",
     "output_type": "stream",
     "text": [
      "True\n"
     ]
    }
   ],
   "source": [
    "thisset=(\"apple\",\"banana\",\"cherry\")\n",
    "print(\"banana\" in thisset)"
   ]
  },
  {
   "cell_type": "code",
   "execution_count": 26,
   "id": "a11b1dc5-90af-4590-9f8d-feb53fee3f42",
   "metadata": {},
   "outputs": [
    {
     "name": "stdout",
     "output_type": "stream",
     "text": [
      "False\n"
     ]
    }
   ],
   "source": [
    "thisset=(\"apple\",\"banana\",\"cherry\")\n",
    "print(\"banana\"  not in thisset)"
   ]
  },
  {
   "cell_type": "code",
   "execution_count": 30,
   "id": "e680fa9d-a3e5-46e0-b142-8b42b72e0870",
   "metadata": {},
   "outputs": [
    {
     "name": "stdout",
     "output_type": "stream",
     "text": [
      "{'orange', 'apple', 'banana', 'cherry'}\n"
     ]
    }
   ],
   "source": [
    "thisset={\"apple\",\"banana\",\"cherry\"}\n",
    "thisset.add(\"orange\")\n",
    "print(thisset)"
   ]
  },
  {
   "cell_type": "code",
   "execution_count": 36,
   "id": "e1c75106-5bc1-412d-ac9f-2089a2a04f09",
   "metadata": {},
   "outputs": [
    {
     "name": "stdout",
     "output_type": "stream",
     "text": [
      "{'papaya', 'apple', 'mango', 'banana', 'cherry', 'pineapple'}\n"
     ]
    }
   ],
   "source": [
    "thisset = {\"apple\",\"banana\",\"cherry\"}\n",
    "tropical = {\"pineapple\",\"mango\",\"papaya\"}\n",
    "thisset.update(tropical)\n",
    "print(thisset)"
   ]
  },
  {
   "cell_type": "code",
   "execution_count": 38,
   "id": "37ee29ab-740e-4c0e-bfae-177c35e4396c",
   "metadata": {},
   "outputs": [
    {
     "name": "stdout",
     "output_type": "stream",
     "text": [
      "{'kiwi', 'apple', 'banana', 'cherry', 'orange'}\n"
     ]
    }
   ],
   "source": [
    "thisset = {\"apple\",\"banana\",\"cherry\"}\n",
    "mylist={\"kiwi\",\"orange\"}\n",
    "thisset.update(mylist)\n",
    "print(thisset)\n"
   ]
  },
  {
   "cell_type": "code",
   "execution_count": 40,
   "id": "30303c4a-7c16-4475-83e9-1f174d93fc13",
   "metadata": {},
   "outputs": [
    {
     "name": "stdout",
     "output_type": "stream",
     "text": [
      "{'apple', 'cherry'}\n"
     ]
    }
   ],
   "source": [
    "thisset = {\"apple\",\"banana\",\"cherry\"}\n",
    "thisset.remove(\"banana\")\n",
    "print(thisset)\n"
   ]
  },
  {
   "cell_type": "code",
   "execution_count": 42,
   "id": "56852391-86d3-4d0d-807c-d7dce919ec39",
   "metadata": {},
   "outputs": [
    {
     "name": "stdout",
     "output_type": "stream",
     "text": [
      "{'apple', 'cherry'}\n"
     ]
    }
   ],
   "source": [
    "thisset = {\"apple\",\"banana\",\"cherry\"}\n",
    "thisset.discard(\"banana\")\n",
    "print(thisset)"
   ]
  },
  {
   "cell_type": "code",
   "execution_count": 44,
   "id": "c5cbf876-3b6e-4dcf-aebf-14e908f05645",
   "metadata": {},
   "outputs": [
    {
     "name": "stdout",
     "output_type": "stream",
     "text": [
      "apple\n",
      "{'banana', 'cherry'}\n"
     ]
    }
   ],
   "source": [
    "thisset = {\"apple\",\"banana\",\"cherry\"}\n",
    "x= thisset.pop()\n",
    "print(x)\n",
    "print(thisset)"
   ]
  },
  {
   "cell_type": "code",
   "execution_count": 48,
   "id": "bdec0081-6d3c-4f54-965d-b61cd4ebeaee",
   "metadata": {},
   "outputs": [
    {
     "name": "stdout",
     "output_type": "stream",
     "text": [
      "set()\n"
     ]
    }
   ],
   "source": [
    "thisset = {\"apple\",\"banana\",\"cherry\"}\n",
    "thisset.clear()\n",
    "print(thisset)"
   ]
  },
  {
   "cell_type": "code",
   "execution_count": 50,
   "id": "c3494f51-2f35-425f-b7d2-ecc86e7b9e5f",
   "metadata": {},
   "outputs": [
    {
     "ename": "NameError",
     "evalue": "name 'thisset' is not defined",
     "output_type": "error",
     "traceback": [
      "\u001b[0;31m---------------------------------------------------------------------------\u001b[0m",
      "\u001b[0;31mNameError\u001b[0m                                 Traceback (most recent call last)",
      "Cell \u001b[0;32mIn[50], line 3\u001b[0m\n\u001b[1;32m      1\u001b[0m thisset \u001b[38;5;241m=\u001b[39m {\u001b[38;5;124m\"\u001b[39m\u001b[38;5;124mapple\u001b[39m\u001b[38;5;124m\"\u001b[39m,\u001b[38;5;124m\"\u001b[39m\u001b[38;5;124mbanana\u001b[39m\u001b[38;5;124m\"\u001b[39m,\u001b[38;5;124m\"\u001b[39m\u001b[38;5;124mcherry\u001b[39m\u001b[38;5;124m\"\u001b[39m}\n\u001b[1;32m      2\u001b[0m \u001b[38;5;28;01mdel\u001b[39;00m thisset\n\u001b[0;32m----> 3\u001b[0m \u001b[38;5;28mprint\u001b[39m(thisset)\n",
      "\u001b[0;31mNameError\u001b[0m: name 'thisset' is not defined"
     ]
    }
   ],
   "source": [
    "thisset = {\"apple\",\"banana\",\"cherry\"}\n",
    "del thisset\n",
    "print(thisset)"
   ]
  },
  {
   "cell_type": "code",
   "execution_count": 54,
   "id": "3115681d-0758-43f0-9553-850f4bd78e77",
   "metadata": {},
   "outputs": [
    {
     "name": "stdout",
     "output_type": "stream",
     "text": [
      "apple\n",
      "banana\n",
      "cherry\n"
     ]
    }
   ],
   "source": [
    "thisset = {\"apple\",\"banana\",\"cherry\"}\n",
    "for x in thisset:\n",
    "    print(x)"
   ]
  },
  {
   "cell_type": "code",
   "execution_count": 64,
   "id": "e1459a85-3450-4f64-b258-6b727c05e778",
   "metadata": {},
   "outputs": [
    {
     "name": "stdout",
     "output_type": "stream",
     "text": [
      "{1, 2, 'a', 3, 'b', 'c'}\n"
     ]
    }
   ],
   "source": [
    "set1= {\"a\",\"b\",\"c\"}\n",
    "set2 = {1,2,3}\n",
    "set3 = set1.union(set2)\n",
    "print(set3)\n"
   ]
  },
  {
   "cell_type": "code",
   "execution_count": 60,
   "id": "1a0cf1f4-580a-4f08-9e1a-f0c4e8e1f5f8",
   "metadata": {},
   "outputs": [
    {
     "name": "stdout",
     "output_type": "stream",
     "text": [
      "{1, 2, 'a', 3, 'b', 'c'}\n"
     ]
    }
   ],
   "source": [
    "set1 = {\"a\",\"b\",\"c\"}\n",
    "set2 = {1,2,3}\n",
    "set3 = set1|set2\n",
    "print(set3)\n"
   ]
  },
  {
   "cell_type": "code",
   "execution_count": 62,
   "id": "cf75cc36-2028-44b7-9dd0-cd6c25babd3f",
   "metadata": {},
   "outputs": [
    {
     "name": "stdout",
     "output_type": "stream",
     "text": [
      "{1, 2, 'a', 3, 'apple', 'banana', 'cherry', 'John', 'b', 'c', 'Annie'}\n"
     ]
    }
   ],
   "source": [
    "set1 = {\"a\",\"b\",\"c\"}\n",
    "set2 = {1,2,3}\n",
    "set3 = {\"John\",\"Annie\"}\n",
    "set4 = {\"apple\",\"banana\",\"cherry\"}\n",
    "myset = set1.union(set2,set3,set4)\n",
    "print(myset)\n"
   ]
  },
  {
   "cell_type": "code",
   "execution_count": 68,
   "id": "d916d413-231c-4612-8680-76912891ecfe",
   "metadata": {},
   "outputs": [
    {
     "name": "stdout",
     "output_type": "stream",
     "text": [
      "{1, 2, 'a', 3, 'b', 'c'}\n"
     ]
    }
   ],
   "source": [
    "x = {\"a\",\"b\",\"c\"}\n",
    "y = (1,2,3)\n",
    "\n",
    "z = x.union(y)\n",
    "print(z)\n"
   ]
  },
  {
   "cell_type": "code",
   "execution_count": 70,
   "id": "415f8142-7917-4ad5-bfa1-a5fc90eebe30",
   "metadata": {},
   "outputs": [
    {
     "name": "stdout",
     "output_type": "stream",
     "text": [
      "{1, 2, 'a', 3, 'b', 'c'}\n"
     ]
    }
   ],
   "source": [
    "set1 = {\"a\",\"b\",\"c\"}\n",
    "set2 = {1,2,3}\n",
    "set1.update(set2)\n",
    "print(set1)"
   ]
  },
  {
   "cell_type": "code",
   "execution_count": 72,
   "id": "a3aad33d-9824-4cb7-b292-7f4b94d07cee",
   "metadata": {},
   "outputs": [
    {
     "name": "stdout",
     "output_type": "stream",
     "text": [
      "{'apple'}\n"
     ]
    }
   ],
   "source": [
    "set1= {\"apple\",\"banana\",\"cherry\"}\n",
    "set2={\"google\",\"microsoft\",\"apple\"}\n",
    "set3= set1.intersection(set2)\n",
    "print(set3)"
   ]
  },
  {
   "cell_type": "code",
   "execution_count": 74,
   "id": "c357e13c-d523-43fa-ac5d-9c9e60cc9cac",
   "metadata": {},
   "outputs": [
    {
     "name": "stdout",
     "output_type": "stream",
     "text": [
      "{'apple'}\n"
     ]
    }
   ],
   "source": [
    "set1= {\"apple\",\"banana\",\"cherry\"}\n",
    "set2={\"google\",\"microsoft\",\"apple\"}\n",
    "set3= set1&set2\n",
    "\n",
    "print(set3)"
   ]
  },
  {
   "cell_type": "code",
   "execution_count": 78,
   "id": "b7e5ffa6-7d89-496c-91a8-9f49b9621a3b",
   "metadata": {},
   "outputs": [
    {
     "name": "stdout",
     "output_type": "stream",
     "text": [
      "{'apple'}\n"
     ]
    }
   ],
   "source": [
    "set1= {\"apple\",\"banana\",\"cherry\"}\n",
    "set2={\"google\",\"microsoft\",\"apple\"}\n",
    "set1.intersection_update(set2)\n",
    "print(set1)"
   ]
  },
  {
   "cell_type": "code",
   "execution_count": 82,
   "id": "d45f4e68-4b30-4c74-ab27-059a69c883b1",
   "metadata": {},
   "outputs": [
    {
     "name": "stdout",
     "output_type": "stream",
     "text": [
      "{True, 2, 'APPLE'}\n"
     ]
    }
   ],
   "source": [
    "set1 = {\"APPLE\", 1 ,\"BANANA\",2,\"CHERRY\"}\n",
    "set2 = {False,\"google\",2,True,\"APPLE\"}\n",
    "set3 = set1.intersection(set2)\n",
    "print(set3)\n"
   ]
  },
  {
   "cell_type": "code",
   "execution_count": 84,
   "id": "21a8aea2-0241-45c5-bc85-0c27163b9f32",
   "metadata": {},
   "outputs": [
    {
     "name": "stdout",
     "output_type": "stream",
     "text": [
      "{'banana', 'cherry'}\n"
     ]
    }
   ],
   "source": [
    "set1= {\"apple\",\"banana\",\"cherry\"}\n",
    "set2={\"google\",\"microsoft\",\"apple\"}\n",
    "set3 = set1.difference(set2)\n",
    "print(set3)"
   ]
  },
  {
   "cell_type": "code",
   "execution_count": 86,
   "id": "022ea779-5fd5-4ce7-a63a-a9161644323c",
   "metadata": {},
   "outputs": [
    {
     "name": "stdout",
     "output_type": "stream",
     "text": [
      "{'banana', 'cherry'}\n"
     ]
    }
   ],
   "source": [
    "set1= {\"apple\",\"banana\",\"cherry\"}\n",
    "set2={\"google\",\"microsoft\",\"apple\"}\n",
    "set3 = set1-(set2)\n",
    "print(set3)"
   ]
  },
  {
   "cell_type": "code",
   "execution_count": 92,
   "id": "547b0282-402e-4f8b-9623-0c434c7ccc91",
   "metadata": {},
   "outputs": [
    {
     "name": "stdout",
     "output_type": "stream",
     "text": [
      "{'banana', 'cherry'}\n"
     ]
    }
   ],
   "source": [
    "set1= {\"apple\",\"banana\",\"cherry\"}\n",
    "set2={\"google\",\"microsoft\",\"apple\"}\n",
    "set1.difference_update(set2)\n",
    "print(set1)"
   ]
  },
  {
   "cell_type": "code",
   "execution_count": 106,
   "id": "45c0a35b-1610-4ecd-9eb7-6528b228c449",
   "metadata": {},
   "outputs": [
    {
     "name": "stdout",
     "output_type": "stream",
     "text": [
      "{'cherry', 'banana', 'microsoft', 'google'}\n"
     ]
    }
   ],
   "source": [
    "set1 = {\"apple\",\"banana\",\"cherry\"}\n",
    "set2 ={\"google\",\"microsoft\",\"apple\"}\n",
    "set3 = set1.symmetric_difference(set2)\n",
    "print(set3)\n"
   ]
  },
  {
   "cell_type": "code",
   "execution_count": 108,
   "id": "87f0f2c0-24e3-46ef-95f0-c629d6a57f07",
   "metadata": {},
   "outputs": [
    {
     "name": "stdout",
     "output_type": "stream",
     "text": [
      "{'cherry', 'banana', 'microsoft', 'google'}\n"
     ]
    }
   ],
   "source": [
    "set1 = {\"apple\",\"banana\",\"cherry\"}\n",
    "set2 ={\"google\",\"microsoft\",\"apple\"}\n",
    "set3 = set1^set2\n",
    "print(set3)\n"
   ]
  },
  {
   "cell_type": "code",
   "execution_count": 110,
   "id": "4c210994-b8b1-4b5b-8696-0d02fc029a53",
   "metadata": {},
   "outputs": [
    {
     "name": "stdout",
     "output_type": "stream",
     "text": [
      "{'microsoft', 'banana', 'cherry', 'google'}\n"
     ]
    }
   ],
   "source": [
    "set1 = {\"apple\",\"banana\",\"cherry\"}\n",
    "set2 ={\"google\",\"microsoft\",\"apple\"}\n",
    "set1.symmetric_difference_update(set2)\n",
    "print(set1)\n"
   ]
  },
  {
   "cell_type": "code",
   "execution_count": null,
   "id": "6c9d602d-2c1c-41ab-a28c-de9af0f54e9c",
   "metadata": {},
   "outputs": [],
   "source": []
  }
 ],
 "metadata": {
  "kernelspec": {
   "display_name": "Python [conda env:base] *",
   "language": "python",
   "name": "conda-base-py"
  },
  "language_info": {
   "codemirror_mode": {
    "name": "ipython",
    "version": 3
   },
   "file_extension": ".py",
   "mimetype": "text/x-python",
   "name": "python",
   "nbconvert_exporter": "python",
   "pygments_lexer": "ipython3",
   "version": "3.12.7"
  }
 },
 "nbformat": 4,
 "nbformat_minor": 5
}
