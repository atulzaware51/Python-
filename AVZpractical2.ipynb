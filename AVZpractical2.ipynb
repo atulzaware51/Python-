{
 "cells": [
  {
   "cell_type": "code",
   "execution_count": 1,
   "id": "462500e2-56fe-4eff-8716-2000eca2e4a7",
   "metadata": {},
   "outputs": [],
   "source": [
    "#6"
   ]
  },
  {
   "cell_type": "code",
   "execution_count": 7,
   "id": "f36d7b0e-9d4c-44dc-a033-f2242deeb3df",
   "metadata": {},
   "outputs": [
    {
     "name": "stdin",
     "output_type": "stream",
     "text": [
      "Enter num = 666\n"
     ]
    },
    {
     "name": "stdout",
     "output_type": "stream",
     "text": [
      "666 is palindrome\n"
     ]
    }
   ],
   "source": [
    "def is_palindrome(num):\n",
    "    return str(num) == str(num)[::1]\n",
    "\n",
    "num = int(input(\"Enter num =\"))\n",
    "if is_palindrome(num):\n",
    "    print(f\"{num} is palindrome\")\n",
    "\n",
    "else :\n",
    "    print(\"not a plaindrome\")"
   ]
  },
  {
   "cell_type": "code",
   "execution_count": 19,
   "id": "7e0f1230-96a6-430d-9fb4-87e49a2ca9c3",
   "metadata": {},
   "outputs": [
    {
     "name": "stdin",
     "output_type": "stream",
     "text": [
      "Enter n = 153\n"
     ]
    },
    {
     "name": "stdout",
     "output_type": "stream",
     "text": [
      "153 is armstrong\n"
     ]
    }
   ],
   "source": [
    "#armstrong\n",
    "def is_armstrong(num):\n",
    "    num_str = str(num)\n",
    "    n = len(num_str)\n",
    "    sum = 0\n",
    "    for digit in num_str:\n",
    "        sum +=int(digit) ** n\n",
    "    return num == sum\n",
    "num = int(input(\"Enter n =\"))\n",
    "if is_armstrong(num):print(f\"{num} is armstrong\")\n",
    "\n",
    "else: print (f\"{num} is not armstrong\")"
   ]
  },
  {
   "cell_type": "code",
   "execution_count": null,
   "id": "3a6b6cec-e00f-4270-a2ef-5d6b0af76300",
   "metadata": {},
   "outputs": [],
   "source": []
  },
  {
   "cell_type": "code",
   "execution_count": 23,
   "id": "a12590bb-ef2e-44e9-a85f-3e864b1ce18a",
   "metadata": {},
   "outputs": [
    {
     "name": "stdout",
     "output_type": "stream",
     "text": [
      "Enter num1, num2, num3\n"
     ]
    },
    {
     "name": "stdin",
     "output_type": "stream",
     "text": [
      "enter first num 1\n",
      "enter second num 2\n",
      "enter third num 3\n"
     ]
    },
    {
     "name": "stdout",
     "output_type": "stream",
     "text": [
      "3 is max\n"
     ]
    }
   ],
   "source": [
    "#8\n",
    "def is_max(num1, num2, num3):\n",
    "    return max(num1,num2,num3)\n",
    "\n",
    "print(\"Enter num1, num2, num3\")\n",
    "n1 = int(input(\"enter first num\"))\n",
    "n2 = int(input(\"enter second num\"))\n",
    "n3 = int(input(\"enter third num\"))\n",
    "maximum = is_max(n1,n2,n3)\n",
    "print(f\"{maximum} is max\")"
   ]
  },
  {
   "cell_type": "code",
   "execution_count": 25,
   "id": "00484606-fe33-423b-a40c-d5bc9895172a",
   "metadata": {},
   "outputs": [
    {
     "name": "stdin",
     "output_type": "stream",
     "text": [
      "Eter nim == 567\n"
     ]
    },
    {
     "name": "stdout",
     "output_type": "stream",
     "text": [
      "18 is the sum \n"
     ]
    }
   ],
   "source": [
    "#9\n",
    "def sum_of_digit(num):\n",
    "    sum_of_digit=0\n",
    "    for digit in str(abs(num)):\n",
    "        sum_of_digit+=int(digit)\n",
    "    return sum_of_digit\n",
    "\n",
    "n = int(input(\"Eter nim ==\"))\n",
    "sum = sum_of_digit(n)\n",
    "print(f\"{sum} is the sum \")"
   ]
  },
  {
   "cell_type": "code",
   "execution_count": 29,
   "id": "26280f71-b8e8-4cc4-8054-4e2e25f12ca4",
   "metadata": {},
   "outputs": [
    {
     "name": "stdin",
     "output_type": "stream",
     "text": [
      "enter n 4\n"
     ]
    },
    {
     "name": "stdout",
     "output_type": "stream",
     "text": [
      "1 = 1\n",
      "1+2 = 3\n",
      "1+2+3 = 6\n",
      "1+2+3+4 = 10\n"
     ]
    }
   ],
   "source": [
    "#10\n",
    "def pat(n):\n",
    "    current_sum=0;\n",
    "    for i in range(1,n+1):\n",
    "        current_sum +=i\n",
    "        pat = \"\"\n",
    "        for j in range(1,i+1):\n",
    "            pat+=str(j)\n",
    "            if j<i:\n",
    "                pat+=\"+\"\n",
    "        print(f\"{pat} = {current_sum}\")\n",
    "\n",
    "g= int(input(\"enter n\"))\n",
    "pat(g)"
   ]
  },
  {
   "cell_type": "code",
   "execution_count": null,
   "id": "1dff0bdb-05ab-4e1d-809b-8680a386ca69",
   "metadata": {},
   "outputs": [],
   "source": []
  }
 ],
 "metadata": {
  "kernelspec": {
   "display_name": "Python [conda env:base] *",
   "language": "python",
   "name": "conda-base-py"
  },
  "language_info": {
   "codemirror_mode": {
    "name": "ipython",
    "version": 3
   },
   "file_extension": ".py",
   "mimetype": "text/x-python",
   "name": "python",
   "nbconvert_exporter": "python",
   "pygments_lexer": "ipython3",
   "version": "3.12.7"
  }
 },
 "nbformat": 4,
 "nbformat_minor": 5
}
